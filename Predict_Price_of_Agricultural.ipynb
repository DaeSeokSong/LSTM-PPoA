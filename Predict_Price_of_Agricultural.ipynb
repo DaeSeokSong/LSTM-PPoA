{
  "nbformat": 4,
  "nbformat_minor": 0,
  "metadata": {
    "colab": {
      "name": "Predict Price of Agricultural.ipynb",
      "provenance": [],
      "collapsed_sections": [],
      "authorship_tag": "ABX9TyOag4re+haKPw/HYTaUqDET",
      "include_colab_link": true
    },
    "kernelspec": {
      "name": "python3",
      "display_name": "Python 3"
    },
    "language_info": {
      "name": "python"
    },
    "accelerator": "GPU"
  },
  "cells": [
    {
      "cell_type": "markdown",
      "metadata": {
        "id": "view-in-github",
        "colab_type": "text"
      },
      "source": [
        "<a href=\"https://colab.research.google.com/github/DaeSeokSong/LSTM-PPoA/blob/main/Predict_Price_of_Agricultural.ipynb\" target=\"_parent\"><img src=\"https://colab.research.google.com/assets/colab-badge.svg\" alt=\"Open In Colab\"/></a>"
      ]
    },
    {
      "cell_type": "markdown",
      "metadata": {
        "id": "tUHp2QmQfL70"
      },
      "source": [
        "# 참조문헌\n",
        "## [A Prediction Model for Agricultural Products Price with LSTM Network](https://www.koreascience.or.kr/article/JAKO201809469053682.page)\n",
        "\n",
        "**신성호, 이미경, 송사광**\n",
        "\n",
        "한국과학기술정보연구원 연구데이터플랫폼센터,\n",
        "한국과학기술정보연구원 연구데이터플랫폼센터/과학기술연합대학원대학교 빅데이터과학과\n",
        "\n",
        "Sungho Shin(maximus74@kisti.re.kr), Mikyoung Lee(jerryis@kisti.re.kr),\n",
        "Sa-kwang Song(esmallj@kisti.re.kr)"
      ]
    },
    {
      "cell_type": "markdown",
      "metadata": {
        "id": "7EFNr9uiwNDj"
      },
      "source": [
        "\n",
        "---\n",
        "---\n",
        "\n"
      ]
    },
    {
      "cell_type": "markdown",
      "metadata": {
        "id": "AuQW7ij4HGQc"
      },
      "source": [
        "# 당년 농산물 가격 예측 LSTM 모델\n",
        "\n",
        "Input = 1~저번 달까지의 pram 값을 하나로 묶은 array(인스턴스)\n",
        "\n",
        "output = 당월의 해당 채소 가격\n",
        "\n",
        "layer = 원래 해당 채소 가격"
      ]
    },
    {
      "cell_type": "markdown",
      "metadata": {
        "id": "a8AkO_e7n4kv"
      },
      "source": [
        "### Google Drive Mount"
      ]
    },
    {
      "cell_type": "code",
      "metadata": {
        "colab": {
          "base_uri": "https://localhost:8080/"
        },
        "id": "imYIsQ-Qn6oB",
        "outputId": "869433a9-5804-455a-e328-7a85a3b35d97"
      },
      "source": [
        "from google.colab import drive\n",
        "drive.mount('/content/gdrive')\n",
        "\n",
        "%cd /content/gdrive/MyDrive/DeepLearning/Project/PPoA\n",
        "!ls -al"
      ],
      "execution_count": null,
      "outputs": [
        {
          "output_type": "stream",
          "name": "stdout",
          "text": [
            "Mounted at /content/gdrive\n",
            "/content/gdrive/MyDrive/DeepLearning/Project/PPoA\n",
            "total 33\n",
            "drwx------ 2 root root  4096 Nov 24 06:07  Dataset\n",
            "-rw------- 1 root root 29466 Nov 26 14:44 'Predict Price of Agricultural.ipynb'\n"
          ]
        }
      ]
    },
    {
      "cell_type": "markdown",
      "metadata": {
        "id": "Urjpqmlxb99Q"
      },
      "source": [
        "### Import\n"
      ]
    },
    {
      "cell_type": "code",
      "metadata": {
        "id": "WjLL_CiwGa2v"
      },
      "source": [
        "import numpy as np\n",
        "import pandas as pd\n",
        "import matplotlib.pyplot as plt\n",
        "from tensorflow.keras import metrics, losses\n",
        "from tensorflow.keras.optimizers import Adam\n",
        "from keras.models import Sequential\n",
        "from keras.layers import LSTM, Bidirectional, Dropout, Dense\n",
        "from sklearn.model_selection import train_test_split\n",
        "from sklearn.metrics import mean_squared_error"
      ],
      "execution_count": 14,
      "outputs": []
    },
    {
      "cell_type": "markdown",
      "metadata": {
        "id": "76aV88cLGCI-"
      },
      "source": [
        "### Function"
      ]
    },
    {
      "cell_type": "code",
      "metadata": {
        "id": "4v5fm5afGCRQ"
      },
      "source": [
        "def Normalization(targetData) :\n",
        "    return (targetData - targetData.min()) / (targetData.max() - targetData.min())\n",
        "\n",
        "def RMSE(y_test, y_predict):\n",
        "    return np.sqrt(mean_squared_error(y_test, y_predict))"
      ],
      "execution_count": null,
      "outputs": []
    },
    {
      "cell_type": "markdown",
      "metadata": {
        "id": "1ER3CZzLmvJz"
      },
      "source": [
        "### Global variable"
      ]
    },
    {
      "cell_type": "code",
      "metadata": {
        "id": "slotXBAvmvRp"
      },
      "source": [
        "TARGET_YEAR = 2020\n",
        "START_YEAR = 0\n",
        "END_YEAR = 0\n",
        "CROPS = ''"
      ],
      "execution_count": null,
      "outputs": []
    },
    {
      "cell_type": "markdown",
      "metadata": {
        "id": "RbsM_WkpdNAn"
      },
      "source": [
        "### Data read"
      ]
    },
    {
      "cell_type": "code",
      "metadata": {
        "id": "li41MIACdNGY"
      },
      "source": [
        "START_YEAR = 2006\n",
        "END_YEAR = 2020\n",
        "CROPS = 'onion'\n",
        "dataset = []\n",
        "\n",
        "# 지난 최대 5년간 최대, 최소치를 기준으로 정규화해야 하는 항목들\n",
        "df = pd.read_csv('./Dataset/last_production_'+CROPS+'.csv', index_col=0, encoding='cp949')\n",
        "# 전년 재배면적\n",
        "last_cultiv_area = df['전년면적']\n",
        "# 전년 평균 생산량(수확량)\n",
        "last_production = df['전년생산량']\n",
        "# 전년 평균 생산단수\n",
        "last_prod_unit = df['전년단수']\n",
        "last_prams = [last_cultiv_area,                    # 전년 재배면적\n",
        "            last_production,                       # 전년 평균 생산량\n",
        "            last_prod_unit                         # 전년 평균 생산단수\n",
        "            ]\n",
        "\n",
        "for next in range(0, (END_YEAR-START_YEAR)+1) :\n",
        "    cur_year = START_YEAR + next\n",
        "\n",
        "    f_name = str(cur_year)+'_'+CROPS+'.csv'\n",
        "    df = pd.read_csv('./Dataset/'+f_name, index_col=0)\n",
        "\n",
        "    ''' 기상변수 '''\n",
        "    # 강수량\n",
        "    precipi_avg = df['평균월강수량(mm)']\n",
        "    precipi_max = df['최다월강수량(mm)']\n",
        "    # 기온\n",
        "    temper_avg = df['평균기온(℃)']\n",
        "    temper_max = df['평균최고기온(℃)']\n",
        "    temper_min = df['평균최저기온(℃)']\n",
        "    # 풍속\n",
        "    windSpeed_avg = df['평균풍속(m/s)']\n",
        "    windSpeed_max = df['최대풍속(m/s)']\n",
        "    # 습도\n",
        "    humidity_avg = df['평균습도(%rh)']\n",
        "    humidity_min = df['최저습도(%rh)']\n",
        "    # 일조량 / 일사량\n",
        "    sunshine = df['일조합']\n",
        "    insolation = df['일사합']\n",
        "\n",
        "    ''' 기타변수 '''\n",
        "    # 전년 수입량\n",
        "    last_amount_import = df['전년수입량']\n",
        "    # 해당 농작물 가격 (index == 12)\n",
        "    crops_price = df['가격']\n",
        "    # 경유 가격\n",
        "    diesel_price = df['경유가격']\n",
        "    # 물가지수(price index -> pidx), 2015년 기준 얼마나 오르고 내렸는지\n",
        "    total_pidx = df['총물가지수']\n",
        "    prod_pidx = df['상품']\n",
        "    agricul_marine_prod_pidx = df['농축수산물']\n",
        "    indust_prod_pidx = df['공업제품']\n",
        "    serv_pidx = df['서비스']\n",
        "    pub_serv_pidx = df['공공서비스']\n",
        "    per_serv_pidx = df['개인서비스']\n",
        "    house_pidx = df['집세']\n",
        "\n",
        "    # 정규화 해야하는 데이터셋\n",
        "    prams = [precipi_avg, precipi_max,             # 강수량\n",
        "            temper_avg, temper_max, temper_min,    # 기온\n",
        "            windSpeed_avg, windSpeed_max,          # 풍속\n",
        "            humidity_avg, humidity_min,            # 습도\n",
        "            sunshine,                              # 일조량\n",
        "            insolation,                            # 일사량\n",
        "            crops_price,                           # 해당 농작물 월별 가격\n",
        "            diesel_price,                          # 월별 경유 가격\n",
        "            last_amount_import,                    # 전년 수입량\n",
        "            # 물가지수\n",
        "            total_pidx, prod_pidx, agricul_marine_prod_pidx, indust_prod_pidx, serv_pidx, pub_serv_pidx, per_serv_pidx, house_pidx,\n",
        "            ]\n",
        "\n",
        "    dataset.append(prams)"
      ],
      "execution_count": null,
      "outputs": []
    },
    {
      "cell_type": "markdown",
      "metadata": {
        "id": "AtnE8nF3927h"
      },
      "source": [
        "### Data preprocessing"
      ]
    },
    {
      "cell_type": "code",
      "metadata": {
        "id": "hR4aVA0E97aI",
        "colab": {
          "base_uri": "https://localhost:8080/"
        },
        "outputId": "188b0650-eb27-40c5-b386-2299e156b4c3"
      },
      "source": [
        "''' 정규화 '''\n",
        "# last_prams\n",
        "norm_last = []\n",
        "for idx, pram in enumerate(last_prams) :\n",
        "    tmp_last = []\n",
        "    for next in range(0, (END_YEAR-START_YEAR)+1) :\n",
        "        tmp_df = pram\n",
        "\n",
        "        cur_year = START_YEAR + next\n",
        "        year_list = tmp_df.index.values.tolist()\n",
        "        if cur_year-4 < year_list[-1] : year_list = year_list[year_list.index(cur_year):len(year_list)] # 5년간 데이터가 없을 경우\n",
        "        else : year_list = year_list[year_list.index(cur_year):year_list.index(cur_year-4)+1]           # 5년간 데이터가 있는 경우\n",
        "\n",
        "        tmp_df = tmp_df.loc[year_list]\n",
        "        tmp_last.append(Normalization(tmp_df).to_numpy()[0])\n",
        "    norm_last.append(tmp_last)\n",
        "\n",
        "# prams\n",
        "for idx, data in enumerate(dataset) :\n",
        "    for i, pram in enumerate(data) :\n",
        "        pram = Normalization(pram)\n",
        "        pram = pram.to_numpy()\n",
        "\n",
        "        dataset[idx][i] = pram\n",
        "\n",
        "''' 데이터셋 구축 '''\n",
        "X_dataset = []\n",
        "y_dataset = []\n",
        "\n",
        "# X, y 데이터셋 구분\n",
        "for cur, year in enumerate(dataset) :\n",
        "    tmp_X1 = [[], [], [], [], []] # 1~5월\n",
        "    tmp_y1 = [] # 6월\n",
        "    tmp_X2 = [[], [], [], [] ,[]] # 7~11월\n",
        "    tmp_y2 = [] # 12월\n",
        "    for idx, data in enumerate(year) :\n",
        "        for month in range(0, 12) :\n",
        "            if idx == 12 : \n",
        "                if month == 5 : tmp_y1.append(data[month])\n",
        "                elif month == 11: tmp_y2.append(data[month])\n",
        "            else :\n",
        "                if month < 5 : tmp_X1[month].append(data[month])\n",
        "                elif month > 5 and month < 11 : tmp_X2[month-6].append(data[month])\n",
        "\n",
        "    for last_data in norm_last :\n",
        "        for month in tmp_X1 : month.append(last_data[cur])\n",
        "        for month in tmp_X2 : month.append(last_data[cur])\n",
        "    \n",
        "    X_dataset.append(tmp_X1)\n",
        "    y_dataset.append(tmp_y1)\n",
        "    X_dataset.append(tmp_X2)\n",
        "    y_dataset.append(tmp_y2)\n",
        "\n",
        "# 데이터 형변환\n",
        "X_dataset = np.array(X_dataset)\n",
        "y_dataset = np.array(y_dataset)\n",
        "\n",
        "# reshape X_dataset\n",
        "X_dataset = X_dataset.reshape(X_dataset.shape[0], X_dataset.shape[1] * X_dataset.shape[2], 1)\n",
        "\n",
        "# Data division (Train : Test = 8 : 2)\n",
        "X_train, X_test, y_train, y_test = train_test_split(X_dataset, y_dataset, test_size = 0.2)\n",
        "print(\"########## Train + Validation (X,) (y,) / Test (X,) (y,) ##########\")\n",
        "print(X_train.shape, y_train.shape, X_test.shape, y_test.shape)\n",
        "\n",
        "# Data division (Train : Validation = 8 : 2)\n",
        "X_train, X_val, y_train, y_val = train_test_split(X_train, y_train, test_size = 0.2)\n",
        "print(\"########## Train (X,) (y,) / Validation (X,) (y,) ##########\")\n",
        "print(X_train.shape, y_train.shape, X_val.shape, y_val.shape)"
      ],
      "execution_count": null,
      "outputs": [
        {
          "output_type": "stream",
          "name": "stdout",
          "text": [
            "########## Train + Validation (X,) (y,) / Test (X,) (y,) ##########\n",
            "(22, 120, 1) (22, 1) (6, 120, 1) (6, 1)\n",
            "########## Train (X,) (y,) / Validation (X,) (y,) ##########\n",
            "(17, 120, 1) (17, 1) (5, 120, 1) (5, 1)\n"
          ]
        }
      ]
    },
    {
      "cell_type": "markdown",
      "metadata": {
        "id": "-P4ubOMj-YWG"
      },
      "source": [
        "### Modeling"
      ]
    },
    {
      "cell_type": "code",
      "metadata": {
        "id": "4GpM_MnL-Ydz",
        "colab": {
          "base_uri": "https://localhost:8080/"
        },
        "outputId": "652f80c7-61c3-4a3f-edd4-7d2462a660be"
      },
      "source": [
        "model = Sequential()\n",
        "\n",
        "model.add(Bidirectional(LSTM(64,                    # 해당 층의 노드 개수\n",
        "                       input_shape=(17, 120, 1),    # input_shape=?\n",
        "                       return_sequences=True)))     # return_sequences == 각 시퀀스를 출력할지\n",
        "model.add(Dropout(0.005))                            # 과적합 방지용 Ex. Dropout 20%(==0.2)\n",
        "model.add(Dense(16))\n",
        "model.add(Dense(1, activation='sigmoid'))\n",
        "\n",
        "model.build(input_shape=(17, 120, 1))\n",
        "model.compile(loss=losses.MeanSquaredError(),\n",
        "              optimizer=Adam(learning_rate=0.0001), # pram ex. learning_rate=0.0001\n",
        "              metrics=[metrics.MeanSquaredError()]\n",
        "              )\n",
        "\n",
        "model.summary()"
      ],
      "execution_count": 43,
      "outputs": [
        {
          "output_type": "stream",
          "name": "stdout",
          "text": [
            "Model: \"sequential_18\"\n",
            "_________________________________________________________________\n",
            " Layer (type)                Output Shape              Param #   \n",
            "=================================================================\n",
            " bidirectional_28 (Bidirecti  (17, 120, 128)           33792     \n",
            " onal)                                                           \n",
            "                                                                 \n",
            " dropout_28 (Dropout)        (17, 120, 128)            0         \n",
            "                                                                 \n",
            " dense_18 (Dense)            (17, 120, 16)             2064      \n",
            "                                                                 \n",
            " dense_19 (Dense)            (17, 120, 1)              17        \n",
            "                                                                 \n",
            "=================================================================\n",
            "Total params: 35,873\n",
            "Trainable params: 35,873\n",
            "Non-trainable params: 0\n",
            "_________________________________________________________________\n"
          ]
        }
      ]
    },
    {
      "cell_type": "markdown",
      "metadata": {
        "id": "AQKnA-yk-bs5"
      },
      "source": [
        "### Learning"
      ]
    },
    {
      "cell_type": "code",
      "metadata": {
        "id": "7pgorD0U-bLv",
        "colab": {
          "base_uri": "https://localhost:8080/",
          "height": 1000
        },
        "outputId": "ac6a71ce-55dd-42bf-9349-9dcb30ced95d"
      },
      "source": [
        "history = model.fit(X_train, y_train,\n",
        "                    validation_data = (X_val, y_val),\n",
        "                    batch_size = 20,\n",
        "                    epochs = 204,                     # Train set's 10%\n",
        "                    verbose = 1,                      # 0=silent, 1=progress bar, 2=one line per epoch.\n",
        "                    )\n",
        "\n",
        "# loss and acc graph (train and val)\n",
        "history_df = pd.DataFrame(history.history)\n",
        "history_df[[\"loss\", \"val_loss\"]].plot()"
      ],
      "execution_count": 44,
      "outputs": [
        {
          "output_type": "stream",
          "name": "stdout",
          "text": [
            "Epoch 1/204\n",
            "1/1 [==============================] - 6s 6s/step - loss: 0.1477 - mean_squared_error: 0.1477 - val_loss: 0.1175 - val_mean_squared_error: 0.1175\n",
            "Epoch 2/204\n",
            "1/1 [==============================] - 0s 101ms/step - loss: 0.1475 - mean_squared_error: 0.1475 - val_loss: 0.1178 - val_mean_squared_error: 0.1178\n",
            "Epoch 3/204\n",
            "1/1 [==============================] - 0s 97ms/step - loss: 0.1473 - mean_squared_error: 0.1473 - val_loss: 0.1180 - val_mean_squared_error: 0.1180\n",
            "Epoch 4/204\n",
            "1/1 [==============================] - 0s 98ms/step - loss: 0.1470 - mean_squared_error: 0.1470 - val_loss: 0.1183 - val_mean_squared_error: 0.1183\n",
            "Epoch 5/204\n",
            "1/1 [==============================] - 0s 94ms/step - loss: 0.1468 - mean_squared_error: 0.1468 - val_loss: 0.1186 - val_mean_squared_error: 0.1186\n",
            "Epoch 6/204\n",
            "1/1 [==============================] - 0s 95ms/step - loss: 0.1466 - mean_squared_error: 0.1466 - val_loss: 0.1188 - val_mean_squared_error: 0.1188\n",
            "Epoch 7/204\n",
            "1/1 [==============================] - 0s 98ms/step - loss: 0.1464 - mean_squared_error: 0.1464 - val_loss: 0.1191 - val_mean_squared_error: 0.1191\n",
            "Epoch 8/204\n",
            "1/1 [==============================] - 0s 96ms/step - loss: 0.1461 - mean_squared_error: 0.1461 - val_loss: 0.1194 - val_mean_squared_error: 0.1194\n",
            "Epoch 9/204\n",
            "1/1 [==============================] - 0s 99ms/step - loss: 0.1460 - mean_squared_error: 0.1460 - val_loss: 0.1197 - val_mean_squared_error: 0.1197\n",
            "Epoch 10/204\n",
            "1/1 [==============================] - 0s 103ms/step - loss: 0.1457 - mean_squared_error: 0.1457 - val_loss: 0.1200 - val_mean_squared_error: 0.1200\n",
            "Epoch 11/204\n",
            "1/1 [==============================] - 0s 95ms/step - loss: 0.1456 - mean_squared_error: 0.1456 - val_loss: 0.1203 - val_mean_squared_error: 0.1203\n",
            "Epoch 12/204\n",
            "1/1 [==============================] - 0s 95ms/step - loss: 0.1454 - mean_squared_error: 0.1454 - val_loss: 0.1206 - val_mean_squared_error: 0.1206\n",
            "Epoch 13/204\n",
            "1/1 [==============================] - 0s 99ms/step - loss: 0.1452 - mean_squared_error: 0.1452 - val_loss: 0.1209 - val_mean_squared_error: 0.1209\n",
            "Epoch 14/204\n",
            "1/1 [==============================] - 0s 97ms/step - loss: 0.1450 - mean_squared_error: 0.1450 - val_loss: 0.1213 - val_mean_squared_error: 0.1213\n",
            "Epoch 15/204\n",
            "1/1 [==============================] - 0s 94ms/step - loss: 0.1449 - mean_squared_error: 0.1449 - val_loss: 0.1216 - val_mean_squared_error: 0.1216\n",
            "Epoch 16/204\n",
            "1/1 [==============================] - 0s 95ms/step - loss: 0.1448 - mean_squared_error: 0.1448 - val_loss: 0.1219 - val_mean_squared_error: 0.1219\n",
            "Epoch 17/204\n",
            "1/1 [==============================] - 0s 96ms/step - loss: 0.1446 - mean_squared_error: 0.1446 - val_loss: 0.1222 - val_mean_squared_error: 0.1222\n",
            "Epoch 18/204\n",
            "1/1 [==============================] - 0s 93ms/step - loss: 0.1445 - mean_squared_error: 0.1445 - val_loss: 0.1226 - val_mean_squared_error: 0.1226\n",
            "Epoch 19/204\n",
            "1/1 [==============================] - 0s 97ms/step - loss: 0.1443 - mean_squared_error: 0.1443 - val_loss: 0.1229 - val_mean_squared_error: 0.1229\n",
            "Epoch 20/204\n",
            "1/1 [==============================] - 0s 96ms/step - loss: 0.1442 - mean_squared_error: 0.1442 - val_loss: 0.1233 - val_mean_squared_error: 0.1233\n",
            "Epoch 21/204\n",
            "1/1 [==============================] - 0s 94ms/step - loss: 0.1441 - mean_squared_error: 0.1441 - val_loss: 0.1236 - val_mean_squared_error: 0.1236\n",
            "Epoch 22/204\n",
            "1/1 [==============================] - 0s 95ms/step - loss: 0.1440 - mean_squared_error: 0.1440 - val_loss: 0.1239 - val_mean_squared_error: 0.1239\n",
            "Epoch 23/204\n",
            "1/1 [==============================] - 0s 95ms/step - loss: 0.1439 - mean_squared_error: 0.1439 - val_loss: 0.1243 - val_mean_squared_error: 0.1243\n",
            "Epoch 24/204\n",
            "1/1 [==============================] - 0s 93ms/step - loss: 0.1438 - mean_squared_error: 0.1438 - val_loss: 0.1246 - val_mean_squared_error: 0.1246\n",
            "Epoch 25/204\n",
            "1/1 [==============================] - 0s 93ms/step - loss: 0.1437 - mean_squared_error: 0.1437 - val_loss: 0.1250 - val_mean_squared_error: 0.1250\n",
            "Epoch 26/204\n",
            "1/1 [==============================] - 0s 96ms/step - loss: 0.1436 - mean_squared_error: 0.1436 - val_loss: 0.1253 - val_mean_squared_error: 0.1253\n",
            "Epoch 27/204\n",
            "1/1 [==============================] - 0s 98ms/step - loss: 0.1435 - mean_squared_error: 0.1435 - val_loss: 0.1256 - val_mean_squared_error: 0.1256\n",
            "Epoch 28/204\n",
            "1/1 [==============================] - 0s 105ms/step - loss: 0.1435 - mean_squared_error: 0.1435 - val_loss: 0.1260 - val_mean_squared_error: 0.1260\n",
            "Epoch 29/204\n",
            "1/1 [==============================] - 0s 100ms/step - loss: 0.1434 - mean_squared_error: 0.1434 - val_loss: 0.1263 - val_mean_squared_error: 0.1263\n",
            "Epoch 30/204\n",
            "1/1 [==============================] - 0s 93ms/step - loss: 0.1433 - mean_squared_error: 0.1433 - val_loss: 0.1267 - val_mean_squared_error: 0.1267\n",
            "Epoch 31/204\n",
            "1/1 [==============================] - 0s 93ms/step - loss: 0.1432 - mean_squared_error: 0.1432 - val_loss: 0.1270 - val_mean_squared_error: 0.1270\n",
            "Epoch 32/204\n",
            "1/1 [==============================] - 0s 97ms/step - loss: 0.1432 - mean_squared_error: 0.1432 - val_loss: 0.1273 - val_mean_squared_error: 0.1273\n",
            "Epoch 33/204\n",
            "1/1 [==============================] - 0s 94ms/step - loss: 0.1432 - mean_squared_error: 0.1432 - val_loss: 0.1276 - val_mean_squared_error: 0.1276\n",
            "Epoch 34/204\n",
            "1/1 [==============================] - 0s 101ms/step - loss: 0.1431 - mean_squared_error: 0.1431 - val_loss: 0.1280 - val_mean_squared_error: 0.1280\n",
            "Epoch 35/204\n",
            "1/1 [==============================] - 0s 99ms/step - loss: 0.1431 - mean_squared_error: 0.1431 - val_loss: 0.1283 - val_mean_squared_error: 0.1283\n",
            "Epoch 36/204\n",
            "1/1 [==============================] - 0s 94ms/step - loss: 0.1430 - mean_squared_error: 0.1430 - val_loss: 0.1286 - val_mean_squared_error: 0.1286\n",
            "Epoch 37/204\n",
            "1/1 [==============================] - 0s 95ms/step - loss: 0.1430 - mean_squared_error: 0.1430 - val_loss: 0.1289 - val_mean_squared_error: 0.1289\n",
            "Epoch 38/204\n",
            "1/1 [==============================] - 0s 104ms/step - loss: 0.1430 - mean_squared_error: 0.1430 - val_loss: 0.1292 - val_mean_squared_error: 0.1292\n",
            "Epoch 39/204\n",
            "1/1 [==============================] - 0s 97ms/step - loss: 0.1429 - mean_squared_error: 0.1429 - val_loss: 0.1295 - val_mean_squared_error: 0.1295\n",
            "Epoch 40/204\n",
            "1/1 [==============================] - 0s 94ms/step - loss: 0.1429 - mean_squared_error: 0.1429 - val_loss: 0.1297 - val_mean_squared_error: 0.1297\n",
            "Epoch 41/204\n",
            "1/1 [==============================] - 0s 107ms/step - loss: 0.1429 - mean_squared_error: 0.1429 - val_loss: 0.1300 - val_mean_squared_error: 0.1300\n",
            "Epoch 42/204\n",
            "1/1 [==============================] - 0s 95ms/step - loss: 0.1429 - mean_squared_error: 0.1429 - val_loss: 0.1302 - val_mean_squared_error: 0.1302\n",
            "Epoch 43/204\n",
            "1/1 [==============================] - 0s 101ms/step - loss: 0.1429 - mean_squared_error: 0.1429 - val_loss: 0.1305 - val_mean_squared_error: 0.1305\n",
            "Epoch 44/204\n",
            "1/1 [==============================] - 0s 98ms/step - loss: 0.1428 - mean_squared_error: 0.1428 - val_loss: 0.1307 - val_mean_squared_error: 0.1307\n",
            "Epoch 45/204\n",
            "1/1 [==============================] - 0s 94ms/step - loss: 0.1428 - mean_squared_error: 0.1428 - val_loss: 0.1309 - val_mean_squared_error: 0.1309\n",
            "Epoch 46/204\n",
            "1/1 [==============================] - 0s 102ms/step - loss: 0.1428 - mean_squared_error: 0.1428 - val_loss: 0.1311 - val_mean_squared_error: 0.1311\n",
            "Epoch 47/204\n",
            "1/1 [==============================] - 0s 96ms/step - loss: 0.1428 - mean_squared_error: 0.1428 - val_loss: 0.1313 - val_mean_squared_error: 0.1313\n",
            "Epoch 48/204\n",
            "1/1 [==============================] - 0s 95ms/step - loss: 0.1428 - mean_squared_error: 0.1428 - val_loss: 0.1315 - val_mean_squared_error: 0.1315\n",
            "Epoch 49/204\n",
            "1/1 [==============================] - 0s 94ms/step - loss: 0.1428 - mean_squared_error: 0.1428 - val_loss: 0.1316 - val_mean_squared_error: 0.1316\n",
            "Epoch 50/204\n",
            "1/1 [==============================] - 0s 96ms/step - loss: 0.1428 - mean_squared_error: 0.1428 - val_loss: 0.1318 - val_mean_squared_error: 0.1318\n",
            "Epoch 51/204\n",
            "1/1 [==============================] - 0s 96ms/step - loss: 0.1427 - mean_squared_error: 0.1427 - val_loss: 0.1319 - val_mean_squared_error: 0.1319\n",
            "Epoch 52/204\n",
            "1/1 [==============================] - 0s 93ms/step - loss: 0.1428 - mean_squared_error: 0.1428 - val_loss: 0.1320 - val_mean_squared_error: 0.1320\n",
            "Epoch 53/204\n",
            "1/1 [==============================] - 0s 92ms/step - loss: 0.1427 - mean_squared_error: 0.1427 - val_loss: 0.1321 - val_mean_squared_error: 0.1321\n",
            "Epoch 54/204\n",
            "1/1 [==============================] - 0s 104ms/step - loss: 0.1428 - mean_squared_error: 0.1428 - val_loss: 0.1322 - val_mean_squared_error: 0.1322\n",
            "Epoch 55/204\n",
            "1/1 [==============================] - 0s 96ms/step - loss: 0.1427 - mean_squared_error: 0.1427 - val_loss: 0.1323 - val_mean_squared_error: 0.1323\n",
            "Epoch 56/204\n",
            "1/1 [==============================] - 0s 92ms/step - loss: 0.1427 - mean_squared_error: 0.1427 - val_loss: 0.1324 - val_mean_squared_error: 0.1324\n",
            "Epoch 57/204\n",
            "1/1 [==============================] - 0s 91ms/step - loss: 0.1427 - mean_squared_error: 0.1427 - val_loss: 0.1324 - val_mean_squared_error: 0.1324\n",
            "Epoch 58/204\n",
            "1/1 [==============================] - 0s 100ms/step - loss: 0.1427 - mean_squared_error: 0.1427 - val_loss: 0.1325 - val_mean_squared_error: 0.1325\n",
            "Epoch 59/204\n",
            "1/1 [==============================] - 0s 94ms/step - loss: 0.1427 - mean_squared_error: 0.1427 - val_loss: 0.1325 - val_mean_squared_error: 0.1325\n",
            "Epoch 60/204\n",
            "1/1 [==============================] - 0s 96ms/step - loss: 0.1427 - mean_squared_error: 0.1427 - val_loss: 0.1325 - val_mean_squared_error: 0.1325\n",
            "Epoch 61/204\n",
            "1/1 [==============================] - 0s 98ms/step - loss: 0.1427 - mean_squared_error: 0.1427 - val_loss: 0.1326 - val_mean_squared_error: 0.1326\n",
            "Epoch 62/204\n",
            "1/1 [==============================] - 0s 95ms/step - loss: 0.1427 - mean_squared_error: 0.1427 - val_loss: 0.1326 - val_mean_squared_error: 0.1326\n",
            "Epoch 63/204\n",
            "1/1 [==============================] - 0s 95ms/step - loss: 0.1426 - mean_squared_error: 0.1426 - val_loss: 0.1326 - val_mean_squared_error: 0.1326\n",
            "Epoch 64/204\n",
            "1/1 [==============================] - 0s 94ms/step - loss: 0.1426 - mean_squared_error: 0.1426 - val_loss: 0.1326 - val_mean_squared_error: 0.1326\n",
            "Epoch 65/204\n",
            "1/1 [==============================] - 0s 94ms/step - loss: 0.1426 - mean_squared_error: 0.1426 - val_loss: 0.1325 - val_mean_squared_error: 0.1325\n",
            "Epoch 66/204\n",
            "1/1 [==============================] - 0s 95ms/step - loss: 0.1426 - mean_squared_error: 0.1426 - val_loss: 0.1325 - val_mean_squared_error: 0.1325\n",
            "Epoch 67/204\n",
            "1/1 [==============================] - 0s 94ms/step - loss: 0.1426 - mean_squared_error: 0.1426 - val_loss: 0.1325 - val_mean_squared_error: 0.1325\n",
            "Epoch 68/204\n",
            "1/1 [==============================] - 0s 101ms/step - loss: 0.1426 - mean_squared_error: 0.1426 - val_loss: 0.1325 - val_mean_squared_error: 0.1325\n",
            "Epoch 69/204\n",
            "1/1 [==============================] - 0s 93ms/step - loss: 0.1426 - mean_squared_error: 0.1426 - val_loss: 0.1324 - val_mean_squared_error: 0.1324\n",
            "Epoch 70/204\n",
            "1/1 [==============================] - 0s 97ms/step - loss: 0.1426 - mean_squared_error: 0.1426 - val_loss: 0.1324 - val_mean_squared_error: 0.1324\n",
            "Epoch 71/204\n",
            "1/1 [==============================] - 0s 96ms/step - loss: 0.1426 - mean_squared_error: 0.1426 - val_loss: 0.1324 - val_mean_squared_error: 0.1324\n",
            "Epoch 72/204\n",
            "1/1 [==============================] - 0s 98ms/step - loss: 0.1426 - mean_squared_error: 0.1426 - val_loss: 0.1323 - val_mean_squared_error: 0.1323\n",
            "Epoch 73/204\n",
            "1/1 [==============================] - 0s 98ms/step - loss: 0.1425 - mean_squared_error: 0.1425 - val_loss: 0.1323 - val_mean_squared_error: 0.1323\n",
            "Epoch 74/204\n",
            "1/1 [==============================] - 0s 103ms/step - loss: 0.1425 - mean_squared_error: 0.1425 - val_loss: 0.1323 - val_mean_squared_error: 0.1323\n",
            "Epoch 75/204\n",
            "1/1 [==============================] - 0s 98ms/step - loss: 0.1425 - mean_squared_error: 0.1425 - val_loss: 0.1322 - val_mean_squared_error: 0.1322\n",
            "Epoch 76/204\n",
            "1/1 [==============================] - 0s 100ms/step - loss: 0.1425 - mean_squared_error: 0.1425 - val_loss: 0.1322 - val_mean_squared_error: 0.1322\n",
            "Epoch 77/204\n",
            "1/1 [==============================] - 0s 101ms/step - loss: 0.1425 - mean_squared_error: 0.1425 - val_loss: 0.1321 - val_mean_squared_error: 0.1321\n",
            "Epoch 78/204\n",
            "1/1 [==============================] - 0s 93ms/step - loss: 0.1425 - mean_squared_error: 0.1425 - val_loss: 0.1321 - val_mean_squared_error: 0.1321\n",
            "Epoch 79/204\n",
            "1/1 [==============================] - 0s 98ms/step - loss: 0.1424 - mean_squared_error: 0.1424 - val_loss: 0.1321 - val_mean_squared_error: 0.1321\n",
            "Epoch 80/204\n",
            "1/1 [==============================] - 0s 99ms/step - loss: 0.1425 - mean_squared_error: 0.1425 - val_loss: 0.1320 - val_mean_squared_error: 0.1320\n",
            "Epoch 81/204\n",
            "1/1 [==============================] - 0s 99ms/step - loss: 0.1424 - mean_squared_error: 0.1424 - val_loss: 0.1320 - val_mean_squared_error: 0.1320\n",
            "Epoch 82/204\n",
            "1/1 [==============================] - 0s 95ms/step - loss: 0.1424 - mean_squared_error: 0.1424 - val_loss: 0.1320 - val_mean_squared_error: 0.1320\n",
            "Epoch 83/204\n",
            "1/1 [==============================] - 0s 103ms/step - loss: 0.1424 - mean_squared_error: 0.1424 - val_loss: 0.1319 - val_mean_squared_error: 0.1319\n",
            "Epoch 84/204\n",
            "1/1 [==============================] - 0s 95ms/step - loss: 0.1424 - mean_squared_error: 0.1424 - val_loss: 0.1319 - val_mean_squared_error: 0.1319\n",
            "Epoch 85/204\n",
            "1/1 [==============================] - 0s 97ms/step - loss: 0.1424 - mean_squared_error: 0.1424 - val_loss: 0.1319 - val_mean_squared_error: 0.1319\n",
            "Epoch 86/204\n",
            "1/1 [==============================] - 0s 95ms/step - loss: 0.1424 - mean_squared_error: 0.1424 - val_loss: 0.1319 - val_mean_squared_error: 0.1319\n",
            "Epoch 87/204\n",
            "1/1 [==============================] - 0s 97ms/step - loss: 0.1424 - mean_squared_error: 0.1424 - val_loss: 0.1319 - val_mean_squared_error: 0.1319\n",
            "Epoch 88/204\n",
            "1/1 [==============================] - 0s 102ms/step - loss: 0.1424 - mean_squared_error: 0.1424 - val_loss: 0.1318 - val_mean_squared_error: 0.1318\n",
            "Epoch 89/204\n",
            "1/1 [==============================] - 0s 102ms/step - loss: 0.1424 - mean_squared_error: 0.1424 - val_loss: 0.1318 - val_mean_squared_error: 0.1318\n",
            "Epoch 90/204\n",
            "1/1 [==============================] - 0s 96ms/step - loss: 0.1423 - mean_squared_error: 0.1423 - val_loss: 0.1318 - val_mean_squared_error: 0.1318\n",
            "Epoch 91/204\n",
            "1/1 [==============================] - 0s 99ms/step - loss: 0.1423 - mean_squared_error: 0.1423 - val_loss: 0.1318 - val_mean_squared_error: 0.1318\n",
            "Epoch 92/204\n",
            "1/1 [==============================] - 0s 101ms/step - loss: 0.1424 - mean_squared_error: 0.1424 - val_loss: 0.1318 - val_mean_squared_error: 0.1318\n",
            "Epoch 93/204\n",
            "1/1 [==============================] - 0s 105ms/step - loss: 0.1423 - mean_squared_error: 0.1423 - val_loss: 0.1318 - val_mean_squared_error: 0.1318\n",
            "Epoch 94/204\n",
            "1/1 [==============================] - 0s 96ms/step - loss: 0.1423 - mean_squared_error: 0.1423 - val_loss: 0.1318 - val_mean_squared_error: 0.1318\n",
            "Epoch 95/204\n",
            "1/1 [==============================] - 0s 95ms/step - loss: 0.1423 - mean_squared_error: 0.1423 - val_loss: 0.1318 - val_mean_squared_error: 0.1318\n",
            "Epoch 96/204\n",
            "1/1 [==============================] - 0s 103ms/step - loss: 0.1423 - mean_squared_error: 0.1423 - val_loss: 0.1318 - val_mean_squared_error: 0.1318\n",
            "Epoch 97/204\n",
            "1/1 [==============================] - 0s 103ms/step - loss: 0.1423 - mean_squared_error: 0.1423 - val_loss: 0.1318 - val_mean_squared_error: 0.1318\n",
            "Epoch 98/204\n",
            "1/1 [==============================] - 0s 102ms/step - loss: 0.1422 - mean_squared_error: 0.1422 - val_loss: 0.1318 - val_mean_squared_error: 0.1318\n",
            "Epoch 99/204\n",
            "1/1 [==============================] - 0s 94ms/step - loss: 0.1422 - mean_squared_error: 0.1422 - val_loss: 0.1318 - val_mean_squared_error: 0.1318\n",
            "Epoch 100/204\n",
            "1/1 [==============================] - 0s 95ms/step - loss: 0.1422 - mean_squared_error: 0.1422 - val_loss: 0.1318 - val_mean_squared_error: 0.1318\n",
            "Epoch 101/204\n",
            "1/1 [==============================] - 0s 93ms/step - loss: 0.1422 - mean_squared_error: 0.1422 - val_loss: 0.1318 - val_mean_squared_error: 0.1318\n",
            "Epoch 102/204\n",
            "1/1 [==============================] - 0s 94ms/step - loss: 0.1422 - mean_squared_error: 0.1422 - val_loss: 0.1318 - val_mean_squared_error: 0.1318\n",
            "Epoch 103/204\n",
            "1/1 [==============================] - 0s 95ms/step - loss: 0.1422 - mean_squared_error: 0.1422 - val_loss: 0.1318 - val_mean_squared_error: 0.1318\n",
            "Epoch 104/204\n",
            "1/1 [==============================] - 0s 97ms/step - loss: 0.1422 - mean_squared_error: 0.1422 - val_loss: 0.1318 - val_mean_squared_error: 0.1318\n",
            "Epoch 105/204\n",
            "1/1 [==============================] - 0s 98ms/step - loss: 0.1421 - mean_squared_error: 0.1421 - val_loss: 0.1318 - val_mean_squared_error: 0.1318\n",
            "Epoch 106/204\n",
            "1/1 [==============================] - 0s 94ms/step - loss: 0.1422 - mean_squared_error: 0.1422 - val_loss: 0.1319 - val_mean_squared_error: 0.1319\n",
            "Epoch 107/204\n",
            "1/1 [==============================] - 0s 92ms/step - loss: 0.1422 - mean_squared_error: 0.1422 - val_loss: 0.1319 - val_mean_squared_error: 0.1319\n",
            "Epoch 108/204\n",
            "1/1 [==============================] - 0s 99ms/step - loss: 0.1422 - mean_squared_error: 0.1422 - val_loss: 0.1319 - val_mean_squared_error: 0.1319\n",
            "Epoch 109/204\n",
            "1/1 [==============================] - 0s 100ms/step - loss: 0.1421 - mean_squared_error: 0.1421 - val_loss: 0.1319 - val_mean_squared_error: 0.1319\n",
            "Epoch 110/204\n",
            "1/1 [==============================] - 0s 95ms/step - loss: 0.1421 - mean_squared_error: 0.1421 - val_loss: 0.1319 - val_mean_squared_error: 0.1319\n",
            "Epoch 111/204\n",
            "1/1 [==============================] - 0s 100ms/step - loss: 0.1421 - mean_squared_error: 0.1421 - val_loss: 0.1319 - val_mean_squared_error: 0.1319\n",
            "Epoch 112/204\n",
            "1/1 [==============================] - 0s 106ms/step - loss: 0.1421 - mean_squared_error: 0.1421 - val_loss: 0.1319 - val_mean_squared_error: 0.1319\n",
            "Epoch 113/204\n",
            "1/1 [==============================] - 0s 101ms/step - loss: 0.1421 - mean_squared_error: 0.1421 - val_loss: 0.1319 - val_mean_squared_error: 0.1319\n",
            "Epoch 114/204\n",
            "1/1 [==============================] - 0s 102ms/step - loss: 0.1420 - mean_squared_error: 0.1420 - val_loss: 0.1319 - val_mean_squared_error: 0.1319\n",
            "Epoch 115/204\n",
            "1/1 [==============================] - 0s 100ms/step - loss: 0.1421 - mean_squared_error: 0.1421 - val_loss: 0.1319 - val_mean_squared_error: 0.1319\n",
            "Epoch 116/204\n",
            "1/1 [==============================] - 0s 97ms/step - loss: 0.1420 - mean_squared_error: 0.1420 - val_loss: 0.1320 - val_mean_squared_error: 0.1320\n",
            "Epoch 117/204\n",
            "1/1 [==============================] - 0s 95ms/step - loss: 0.1420 - mean_squared_error: 0.1420 - val_loss: 0.1320 - val_mean_squared_error: 0.1320\n",
            "Epoch 118/204\n",
            "1/1 [==============================] - 0s 100ms/step - loss: 0.1420 - mean_squared_error: 0.1420 - val_loss: 0.1320 - val_mean_squared_error: 0.1320\n",
            "Epoch 119/204\n",
            "1/1 [==============================] - 0s 98ms/step - loss: 0.1420 - mean_squared_error: 0.1420 - val_loss: 0.1320 - val_mean_squared_error: 0.1320\n",
            "Epoch 120/204\n",
            "1/1 [==============================] - 0s 93ms/step - loss: 0.1419 - mean_squared_error: 0.1419 - val_loss: 0.1320 - val_mean_squared_error: 0.1320\n",
            "Epoch 121/204\n",
            "1/1 [==============================] - 0s 104ms/step - loss: 0.1419 - mean_squared_error: 0.1419 - val_loss: 0.1320 - val_mean_squared_error: 0.1320\n",
            "Epoch 122/204\n",
            "1/1 [==============================] - 0s 100ms/step - loss: 0.1419 - mean_squared_error: 0.1419 - val_loss: 0.1320 - val_mean_squared_error: 0.1320\n",
            "Epoch 123/204\n",
            "1/1 [==============================] - 0s 95ms/step - loss: 0.1419 - mean_squared_error: 0.1419 - val_loss: 0.1320 - val_mean_squared_error: 0.1320\n",
            "Epoch 124/204\n",
            "1/1 [==============================] - 0s 95ms/step - loss: 0.1419 - mean_squared_error: 0.1419 - val_loss: 0.1320 - val_mean_squared_error: 0.1320\n",
            "Epoch 125/204\n",
            "1/1 [==============================] - 0s 93ms/step - loss: 0.1419 - mean_squared_error: 0.1419 - val_loss: 0.1320 - val_mean_squared_error: 0.1320\n",
            "Epoch 126/204\n",
            "1/1 [==============================] - 0s 98ms/step - loss: 0.1419 - mean_squared_error: 0.1419 - val_loss: 0.1320 - val_mean_squared_error: 0.1320\n",
            "Epoch 127/204\n",
            "1/1 [==============================] - 0s 103ms/step - loss: 0.1418 - mean_squared_error: 0.1418 - val_loss: 0.1320 - val_mean_squared_error: 0.1320\n",
            "Epoch 128/204\n",
            "1/1 [==============================] - 0s 100ms/step - loss: 0.1418 - mean_squared_error: 0.1418 - val_loss: 0.1320 - val_mean_squared_error: 0.1320\n",
            "Epoch 129/204\n",
            "1/1 [==============================] - 0s 94ms/step - loss: 0.1418 - mean_squared_error: 0.1418 - val_loss: 0.1320 - val_mean_squared_error: 0.1320\n",
            "Epoch 130/204\n",
            "1/1 [==============================] - 0s 97ms/step - loss: 0.1418 - mean_squared_error: 0.1418 - val_loss: 0.1320 - val_mean_squared_error: 0.1320\n",
            "Epoch 131/204\n",
            "1/1 [==============================] - 0s 99ms/step - loss: 0.1418 - mean_squared_error: 0.1418 - val_loss: 0.1320 - val_mean_squared_error: 0.1320\n",
            "Epoch 132/204\n",
            "1/1 [==============================] - 0s 108ms/step - loss: 0.1418 - mean_squared_error: 0.1418 - val_loss: 0.1320 - val_mean_squared_error: 0.1320\n",
            "Epoch 133/204\n",
            "1/1 [==============================] - 0s 100ms/step - loss: 0.1417 - mean_squared_error: 0.1417 - val_loss: 0.1320 - val_mean_squared_error: 0.1320\n",
            "Epoch 134/204\n",
            "1/1 [==============================] - 0s 95ms/step - loss: 0.1417 - mean_squared_error: 0.1417 - val_loss: 0.1320 - val_mean_squared_error: 0.1320\n",
            "Epoch 135/204\n",
            "1/1 [==============================] - 0s 99ms/step - loss: 0.1417 - mean_squared_error: 0.1417 - val_loss: 0.1320 - val_mean_squared_error: 0.1320\n",
            "Epoch 136/204\n",
            "1/1 [==============================] - 0s 100ms/step - loss: 0.1417 - mean_squared_error: 0.1417 - val_loss: 0.1320 - val_mean_squared_error: 0.1320\n",
            "Epoch 137/204\n",
            "1/1 [==============================] - 0s 101ms/step - loss: 0.1416 - mean_squared_error: 0.1416 - val_loss: 0.1320 - val_mean_squared_error: 0.1320\n",
            "Epoch 138/204\n",
            "1/1 [==============================] - 0s 100ms/step - loss: 0.1417 - mean_squared_error: 0.1417 - val_loss: 0.1320 - val_mean_squared_error: 0.1320\n",
            "Epoch 139/204\n",
            "1/1 [==============================] - 0s 99ms/step - loss: 0.1416 - mean_squared_error: 0.1416 - val_loss: 0.1320 - val_mean_squared_error: 0.1320\n",
            "Epoch 140/204\n",
            "1/1 [==============================] - 0s 96ms/step - loss: 0.1416 - mean_squared_error: 0.1416 - val_loss: 0.1320 - val_mean_squared_error: 0.1320\n",
            "Epoch 141/204\n",
            "1/1 [==============================] - 0s 99ms/step - loss: 0.1416 - mean_squared_error: 0.1416 - val_loss: 0.1320 - val_mean_squared_error: 0.1320\n",
            "Epoch 142/204\n",
            "1/1 [==============================] - 0s 97ms/step - loss: 0.1415 - mean_squared_error: 0.1415 - val_loss: 0.1320 - val_mean_squared_error: 0.1320\n",
            "Epoch 143/204\n",
            "1/1 [==============================] - 0s 108ms/step - loss: 0.1415 - mean_squared_error: 0.1415 - val_loss: 0.1320 - val_mean_squared_error: 0.1320\n",
            "Epoch 144/204\n",
            "1/1 [==============================] - 0s 99ms/step - loss: 0.1415 - mean_squared_error: 0.1415 - val_loss: 0.1320 - val_mean_squared_error: 0.1320\n",
            "Epoch 145/204\n",
            "1/1 [==============================] - 0s 99ms/step - loss: 0.1415 - mean_squared_error: 0.1415 - val_loss: 0.1320 - val_mean_squared_error: 0.1320\n",
            "Epoch 146/204\n",
            "1/1 [==============================] - 0s 99ms/step - loss: 0.1415 - mean_squared_error: 0.1415 - val_loss: 0.1320 - val_mean_squared_error: 0.1320\n",
            "Epoch 147/204\n",
            "1/1 [==============================] - 0s 100ms/step - loss: 0.1414 - mean_squared_error: 0.1414 - val_loss: 0.1320 - val_mean_squared_error: 0.1320\n",
            "Epoch 148/204\n",
            "1/1 [==============================] - 0s 103ms/step - loss: 0.1414 - mean_squared_error: 0.1414 - val_loss: 0.1319 - val_mean_squared_error: 0.1319\n",
            "Epoch 149/204\n",
            "1/1 [==============================] - 0s 101ms/step - loss: 0.1413 - mean_squared_error: 0.1413 - val_loss: 0.1319 - val_mean_squared_error: 0.1319\n",
            "Epoch 150/204\n",
            "1/1 [==============================] - 0s 100ms/step - loss: 0.1413 - mean_squared_error: 0.1413 - val_loss: 0.1319 - val_mean_squared_error: 0.1319\n",
            "Epoch 151/204\n",
            "1/1 [==============================] - 0s 101ms/step - loss: 0.1413 - mean_squared_error: 0.1413 - val_loss: 0.1319 - val_mean_squared_error: 0.1319\n",
            "Epoch 152/204\n",
            "1/1 [==============================] - 0s 98ms/step - loss: 0.1413 - mean_squared_error: 0.1413 - val_loss: 0.1319 - val_mean_squared_error: 0.1319\n",
            "Epoch 153/204\n",
            "1/1 [==============================] - 0s 99ms/step - loss: 0.1412 - mean_squared_error: 0.1412 - val_loss: 0.1319 - val_mean_squared_error: 0.1319\n",
            "Epoch 154/204\n",
            "1/1 [==============================] - 0s 97ms/step - loss: 0.1413 - mean_squared_error: 0.1413 - val_loss: 0.1319 - val_mean_squared_error: 0.1319\n",
            "Epoch 155/204\n",
            "1/1 [==============================] - 0s 103ms/step - loss: 0.1412 - mean_squared_error: 0.1412 - val_loss: 0.1319 - val_mean_squared_error: 0.1319\n",
            "Epoch 156/204\n",
            "1/1 [==============================] - 0s 105ms/step - loss: 0.1411 - mean_squared_error: 0.1411 - val_loss: 0.1319 - val_mean_squared_error: 0.1319\n",
            "Epoch 157/204\n",
            "1/1 [==============================] - 0s 100ms/step - loss: 0.1411 - mean_squared_error: 0.1411 - val_loss: 0.1319 - val_mean_squared_error: 0.1319\n",
            "Epoch 158/204\n",
            "1/1 [==============================] - 0s 96ms/step - loss: 0.1411 - mean_squared_error: 0.1411 - val_loss: 0.1319 - val_mean_squared_error: 0.1319\n",
            "Epoch 159/204\n",
            "1/1 [==============================] - 0s 102ms/step - loss: 0.1410 - mean_squared_error: 0.1410 - val_loss: 0.1319 - val_mean_squared_error: 0.1319\n",
            "Epoch 160/204\n",
            "1/1 [==============================] - 0s 96ms/step - loss: 0.1410 - mean_squared_error: 0.1410 - val_loss: 0.1319 - val_mean_squared_error: 0.1319\n",
            "Epoch 161/204\n",
            "1/1 [==============================] - 0s 100ms/step - loss: 0.1410 - mean_squared_error: 0.1410 - val_loss: 0.1318 - val_mean_squared_error: 0.1318\n",
            "Epoch 162/204\n",
            "1/1 [==============================] - 0s 96ms/step - loss: 0.1409 - mean_squared_error: 0.1409 - val_loss: 0.1318 - val_mean_squared_error: 0.1318\n",
            "Epoch 163/204\n",
            "1/1 [==============================] - 0s 98ms/step - loss: 0.1409 - mean_squared_error: 0.1409 - val_loss: 0.1318 - val_mean_squared_error: 0.1318\n",
            "Epoch 164/204\n",
            "1/1 [==============================] - 0s 106ms/step - loss: 0.1409 - mean_squared_error: 0.1409 - val_loss: 0.1318 - val_mean_squared_error: 0.1318\n",
            "Epoch 165/204\n",
            "1/1 [==============================] - 0s 99ms/step - loss: 0.1409 - mean_squared_error: 0.1409 - val_loss: 0.1318 - val_mean_squared_error: 0.1318\n",
            "Epoch 166/204\n",
            "1/1 [==============================] - 0s 96ms/step - loss: 0.1408 - mean_squared_error: 0.1408 - val_loss: 0.1318 - val_mean_squared_error: 0.1318\n",
            "Epoch 167/204\n",
            "1/1 [==============================] - 0s 97ms/step - loss: 0.1408 - mean_squared_error: 0.1408 - val_loss: 0.1317 - val_mean_squared_error: 0.1317\n",
            "Epoch 168/204\n",
            "1/1 [==============================] - 0s 96ms/step - loss: 0.1407 - mean_squared_error: 0.1407 - val_loss: 0.1317 - val_mean_squared_error: 0.1317\n",
            "Epoch 169/204\n",
            "1/1 [==============================] - 0s 102ms/step - loss: 0.1406 - mean_squared_error: 0.1406 - val_loss: 0.1317 - val_mean_squared_error: 0.1317\n",
            "Epoch 170/204\n",
            "1/1 [==============================] - 0s 99ms/step - loss: 0.1406 - mean_squared_error: 0.1406 - val_loss: 0.1316 - val_mean_squared_error: 0.1316\n",
            "Epoch 171/204\n",
            "1/1 [==============================] - 0s 101ms/step - loss: 0.1405 - mean_squared_error: 0.1405 - val_loss: 0.1316 - val_mean_squared_error: 0.1316\n",
            "Epoch 172/204\n",
            "1/1 [==============================] - 0s 103ms/step - loss: 0.1405 - mean_squared_error: 0.1405 - val_loss: 0.1316 - val_mean_squared_error: 0.1316\n",
            "Epoch 173/204\n",
            "1/1 [==============================] - 0s 106ms/step - loss: 0.1404 - mean_squared_error: 0.1404 - val_loss: 0.1315 - val_mean_squared_error: 0.1315\n",
            "Epoch 174/204\n",
            "1/1 [==============================] - 0s 101ms/step - loss: 0.1404 - mean_squared_error: 0.1404 - val_loss: 0.1315 - val_mean_squared_error: 0.1315\n",
            "Epoch 175/204\n",
            "1/1 [==============================] - 0s 113ms/step - loss: 0.1403 - mean_squared_error: 0.1403 - val_loss: 0.1315 - val_mean_squared_error: 0.1315\n",
            "Epoch 176/204\n",
            "1/1 [==============================] - 0s 97ms/step - loss: 0.1402 - mean_squared_error: 0.1402 - val_loss: 0.1314 - val_mean_squared_error: 0.1314\n",
            "Epoch 177/204\n",
            "1/1 [==============================] - 0s 94ms/step - loss: 0.1401 - mean_squared_error: 0.1401 - val_loss: 0.1314 - val_mean_squared_error: 0.1314\n",
            "Epoch 178/204\n",
            "1/1 [==============================] - 0s 97ms/step - loss: 0.1401 - mean_squared_error: 0.1401 - val_loss: 0.1313 - val_mean_squared_error: 0.1313\n",
            "Epoch 179/204\n",
            "1/1 [==============================] - 0s 109ms/step - loss: 0.1400 - mean_squared_error: 0.1400 - val_loss: 0.1313 - val_mean_squared_error: 0.1313\n",
            "Epoch 180/204\n",
            "1/1 [==============================] - 0s 101ms/step - loss: 0.1399 - mean_squared_error: 0.1399 - val_loss: 0.1312 - val_mean_squared_error: 0.1312\n",
            "Epoch 181/204\n",
            "1/1 [==============================] - 0s 99ms/step - loss: 0.1398 - mean_squared_error: 0.1398 - val_loss: 0.1311 - val_mean_squared_error: 0.1311\n",
            "Epoch 182/204\n",
            "1/1 [==============================] - 0s 104ms/step - loss: 0.1397 - mean_squared_error: 0.1397 - val_loss: 0.1311 - val_mean_squared_error: 0.1311\n",
            "Epoch 183/204\n",
            "1/1 [==============================] - 0s 104ms/step - loss: 0.1396 - mean_squared_error: 0.1396 - val_loss: 0.1310 - val_mean_squared_error: 0.1310\n",
            "Epoch 184/204\n",
            "1/1 [==============================] - 0s 104ms/step - loss: 0.1395 - mean_squared_error: 0.1395 - val_loss: 0.1309 - val_mean_squared_error: 0.1309\n",
            "Epoch 185/204\n",
            "1/1 [==============================] - 0s 102ms/step - loss: 0.1393 - mean_squared_error: 0.1393 - val_loss: 0.1308 - val_mean_squared_error: 0.1308\n",
            "Epoch 186/204\n",
            "1/1 [==============================] - 0s 100ms/step - loss: 0.1392 - mean_squared_error: 0.1392 - val_loss: 0.1308 - val_mean_squared_error: 0.1308\n",
            "Epoch 187/204\n",
            "1/1 [==============================] - 0s 101ms/step - loss: 0.1391 - mean_squared_error: 0.1391 - val_loss: 0.1307 - val_mean_squared_error: 0.1307\n",
            "Epoch 188/204\n",
            "1/1 [==============================] - 0s 107ms/step - loss: 0.1390 - mean_squared_error: 0.1390 - val_loss: 0.1306 - val_mean_squared_error: 0.1306\n",
            "Epoch 189/204\n",
            "1/1 [==============================] - 0s 98ms/step - loss: 0.1387 - mean_squared_error: 0.1387 - val_loss: 0.1305 - val_mean_squared_error: 0.1305\n",
            "Epoch 190/204\n",
            "1/1 [==============================] - 0s 99ms/step - loss: 0.1385 - mean_squared_error: 0.1385 - val_loss: 0.1304 - val_mean_squared_error: 0.1304\n",
            "Epoch 191/204\n",
            "1/1 [==============================] - 0s 106ms/step - loss: 0.1383 - mean_squared_error: 0.1383 - val_loss: 0.1303 - val_mean_squared_error: 0.1303\n",
            "Epoch 192/204\n",
            "1/1 [==============================] - 0s 110ms/step - loss: 0.1380 - mean_squared_error: 0.1380 - val_loss: 0.1302 - val_mean_squared_error: 0.1302\n",
            "Epoch 193/204\n",
            "1/1 [==============================] - 0s 106ms/step - loss: 0.1378 - mean_squared_error: 0.1378 - val_loss: 0.1301 - val_mean_squared_error: 0.1301\n",
            "Epoch 194/204\n",
            "1/1 [==============================] - 0s 95ms/step - loss: 0.1374 - mean_squared_error: 0.1374 - val_loss: 0.1301 - val_mean_squared_error: 0.1301\n",
            "Epoch 195/204\n",
            "1/1 [==============================] - 0s 100ms/step - loss: 0.1371 - mean_squared_error: 0.1371 - val_loss: 0.1301 - val_mean_squared_error: 0.1301\n",
            "Epoch 196/204\n",
            "1/1 [==============================] - 0s 97ms/step - loss: 0.1366 - mean_squared_error: 0.1366 - val_loss: 0.1301 - val_mean_squared_error: 0.1301\n",
            "Epoch 197/204\n",
            "1/1 [==============================] - 0s 96ms/step - loss: 0.1361 - mean_squared_error: 0.1361 - val_loss: 0.1303 - val_mean_squared_error: 0.1303\n",
            "Epoch 198/204\n",
            "1/1 [==============================] - 0s 101ms/step - loss: 0.1356 - mean_squared_error: 0.1356 - val_loss: 0.1307 - val_mean_squared_error: 0.1307\n",
            "Epoch 199/204\n",
            "1/1 [==============================] - 0s 102ms/step - loss: 0.1349 - mean_squared_error: 0.1349 - val_loss: 0.1313 - val_mean_squared_error: 0.1313\n",
            "Epoch 200/204\n",
            "1/1 [==============================] - 0s 97ms/step - loss: 0.1343 - mean_squared_error: 0.1343 - val_loss: 0.1322 - val_mean_squared_error: 0.1322\n",
            "Epoch 201/204\n",
            "1/1 [==============================] - 0s 99ms/step - loss: 0.1337 - mean_squared_error: 0.1337 - val_loss: 0.1333 - val_mean_squared_error: 0.1333\n",
            "Epoch 202/204\n",
            "1/1 [==============================] - 0s 99ms/step - loss: 0.1332 - mean_squared_error: 0.1332 - val_loss: 0.1347 - val_mean_squared_error: 0.1347\n",
            "Epoch 203/204\n",
            "1/1 [==============================] - 0s 97ms/step - loss: 0.1329 - mean_squared_error: 0.1329 - val_loss: 0.1360 - val_mean_squared_error: 0.1360\n",
            "Epoch 204/204\n",
            "1/1 [==============================] - 0s 99ms/step - loss: 0.1327 - mean_squared_error: 0.1327 - val_loss: 0.1368 - val_mean_squared_error: 0.1368\n"
          ]
        },
        {
          "output_type": "execute_result",
          "data": {
            "text/plain": [
              "<matplotlib.axes._subplots.AxesSubplot at 0x7f6883dab190>"
            ]
          },
          "metadata": {},
          "execution_count": 44
        },
        {
          "output_type": "display_data",
          "data": {
            "image/png": "[encoded data removed]",
            "text/plain": [
              "<Figure size 432x288 with 1 Axes>"
            ]
          },
          "metadata": {
            "needs_background": "light"
          }
        }
      ]
    },
    {
      "cell_type": "markdown",
      "metadata": {
        "id": "Vmw7-DI7-f2S"
      },
      "source": [
        "### Prediction"
      ]
    },
    {
      "cell_type": "code",
      "metadata": {
        "id": "gJrzhLK1-hLQ"
      },
      "source": [
        ""
      ],
      "execution_count": null,
      "outputs": []
    }
  ]
}