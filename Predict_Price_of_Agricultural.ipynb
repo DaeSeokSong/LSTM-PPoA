{
  "nbformat": 4,
  "nbformat_minor": 0,
  "metadata": {
    "colab": {
      "name": "Predict Price of Agricultural.ipynb",
      "provenance": [],
      "collapsed_sections": [],
      "authorship_tag": "ABX9TyOpxmSupVAt8uVowQebtAjS",
      "include_colab_link": true
    },
    "kernelspec": {
      "name": "python3",
      "display_name": "Python 3"
    },
    "language_info": {
      "name": "python"
    },
    "accelerator": "GPU"
  },
  "cells": [
    {
      "cell_type": "markdown",
      "metadata": {
        "id": "view-in-github",
        "colab_type": "text"
      },
      "source": [
        "<a href=\"https://colab.research.google.com/github/DaeSeokSong/LSTM-PPoA/blob/main/Predict_Price_of_Agricultural.ipynb\" target=\"_parent\"><img src=\"https://colab.research.google.com/assets/colab-badge.svg\" alt=\"Open In Colab\"/></a>"
      ]
    },
    {
      "cell_type": "markdown",
      "metadata": {
        "id": "tUHp2QmQfL70"
      },
      "source": [
        "# 참조문헌\n",
        "## [A Prediction Model for Agricultural Products Price with LSTM Network](https://www.koreascience.or.kr/article/JAKO201809469053682.page)\n",
        "\n",
        "**신성호, 이미경, 송사광**\n",
        "\n",
        "한국과학기술정보연구원 연구데이터플랫폼센터,\n",
        "한국과학기술정보연구원 연구데이터플랫폼센터/과학기술연합대학원대학교 빅데이터과학과\n",
        "\n",
        "Sungho Shin(maximus74@kisti.re.kr), Mikyoung Lee(jerryis@kisti.re.kr),\n",
        "Sa-kwang Song(esmallj@kisti.re.kr)"
      ]
    },
    {
      "cell_type": "markdown",
      "metadata": {
        "id": "7EFNr9uiwNDj"
      },
      "source": [
        "\n",
        "---\n",
        "---\n",
        "\n"
      ]
    },
    {
      "cell_type": "markdown",
      "metadata": {
        "id": "AuQW7ij4HGQc"
      },
      "source": [
        "# 당년 농산물 가격 예측 LSTM 모델\n",
        "\n",
        "Input = 1~저번 달까지의 pram 값을 하나로 묶은 array(인스턴스)\n",
        "\n",
        "output = 당월의 해당 채소 가격\n",
        "\n",
        "layer = 원래 해당 채소 가격"
      ]
    },
    {
      "cell_type": "markdown",
      "metadata": {
        "id": "a8AkO_e7n4kv"
      },
      "source": [
        "### Google Drive Mount"
      ]
    },
    {
      "cell_type": "code",
      "metadata": {
        "colab": {
          "base_uri": "https://localhost:8080/"
        },
        "id": "imYIsQ-Qn6oB",
        "outputId": "c0514073-63a1-4c90-8071-df8f5e19add9"
      },
      "source": [
        "from google.colab import drive\n",
        "drive.mount('/content/gdrive')\n",
        "\n",
        "%cd /content/gdrive/MyDrive/DeepLearning/Project/PPoA\n",
        "!ls -al"
      ],
      "execution_count": 1,
      "outputs": [
        {
          "output_type": "stream",
          "name": "stdout",
          "text": [
            "Mounted at /content/gdrive\n",
            "/content/gdrive/MyDrive/DeepLearning/Project/PPoA\n",
            "total 69\n",
            "drwx------ 2 root root  4096 Nov 24 06:07  Dataset\n",
            "-rw------- 1 root root 66546 Nov 26 15:44 'Predict Price of Agricultural.ipynb'\n"
          ]
        }
      ]
    },
    {
      "cell_type": "markdown",
      "metadata": {
        "id": "Urjpqmlxb99Q"
      },
      "source": [
        "### Import\n"
      ]
    },
    {
      "cell_type": "code",
      "metadata": {
        "id": "WjLL_CiwGa2v"
      },
      "source": [
        "import numpy as np\n",
        "import pandas as pd\n",
        "import matplotlib.pyplot as plt\n",
        "from tensorflow.keras import metrics, losses\n",
        "from tensorflow.keras.optimizers import Adam, RMSprop\n",
        "from keras.models import Sequential\n",
        "from keras.layers import LSTM, Bidirectional, Dropout, Dense\n",
        "from sklearn.model_selection import train_test_split\n",
        "from sklearn.metrics import mean_squared_error"
      ],
      "execution_count": 34,
      "outputs": []
    },
    {
      "cell_type": "markdown",
      "metadata": {
        "id": "76aV88cLGCI-"
      },
      "source": [
        "### Function"
      ]
    },
    {
      "cell_type": "code",
      "metadata": {
        "id": "4v5fm5afGCRQ"
      },
      "source": [
        "def Normalization(targetData) :\n",
        "    return (targetData - targetData.min()) / (targetData.max() - targetData.min())\n",
        "\n",
        "def RMSE(y_test, y_predict):\n",
        "    return np.sqrt(mean_squared_error(y_test, y_predict))"
      ],
      "execution_count": 3,
      "outputs": []
    },
    {
      "cell_type": "markdown",
      "metadata": {
        "id": "1ER3CZzLmvJz"
      },
      "source": [
        "### Global variable"
      ]
    },
    {
      "cell_type": "code",
      "metadata": {
        "id": "slotXBAvmvRp"
      },
      "source": [
        "TARGET_YEAR = 2020\n",
        "START_YEAR = 0\n",
        "END_YEAR = 0\n",
        "CROPS = ''"
      ],
      "execution_count": 4,
      "outputs": []
    },
    {
      "cell_type": "markdown",
      "metadata": {
        "id": "RbsM_WkpdNAn"
      },
      "source": [
        "### Data read"
      ]
    },
    {
      "cell_type": "code",
      "metadata": {
        "id": "li41MIACdNGY"
      },
      "source": [
        "START_YEAR = 2006\n",
        "END_YEAR = 2020\n",
        "CROPS = 'onion'\n",
        "dataset = []\n",
        "\n",
        "# 지난 최대 5년간 최대, 최소치를 기준으로 정규화해야 하는 항목들\n",
        "df = pd.read_csv('./Dataset/last_production_'+CROPS+'.csv', index_col=0, encoding='cp949')\n",
        "# 전년 재배면적\n",
        "last_cultiv_area = df['전년면적']\n",
        "# 전년 평균 생산량(수확량)\n",
        "last_production = df['전년생산량']\n",
        "# 전년 평균 생산단수\n",
        "last_prod_unit = df['전년단수']\n",
        "last_prams = [last_cultiv_area,                    # 전년 재배면적\n",
        "            last_production,                       # 전년 평균 생산량\n",
        "            last_prod_unit                         # 전년 평균 생산단수\n",
        "            ]\n",
        "\n",
        "for next in range(0, (END_YEAR-START_YEAR)+1) :\n",
        "    cur_year = START_YEAR + next\n",
        "\n",
        "    f_name = str(cur_year)+'_'+CROPS+'.csv'\n",
        "    df = pd.read_csv('./Dataset/'+f_name, index_col=0)\n",
        "\n",
        "    ''' 기상변수 '''\n",
        "    # 강수량\n",
        "    precipi_avg = df['평균월강수량(mm)']\n",
        "    precipi_max = df['최다월강수량(mm)']\n",
        "    # 기온\n",
        "    temper_avg = df['평균기온(℃)']\n",
        "    temper_max = df['평균최고기온(℃)']\n",
        "    temper_min = df['평균최저기온(℃)']\n",
        "    # 풍속\n",
        "    windSpeed_avg = df['평균풍속(m/s)']\n",
        "    windSpeed_max = df['최대풍속(m/s)']\n",
        "    # 습도\n",
        "    humidity_avg = df['평균습도(%rh)']\n",
        "    humidity_min = df['최저습도(%rh)']\n",
        "    # 일조량 / 일사량\n",
        "    sunshine = df['일조합']\n",
        "    insolation = df['일사합']\n",
        "\n",
        "    ''' 기타변수 '''\n",
        "    # 전년 수입량\n",
        "    last_amount_import = df['전년수입량']\n",
        "    # 해당 농작물 가격 (index == 12)\n",
        "    crops_price = df['가격']\n",
        "    # 경유 가격\n",
        "    diesel_price = df['경유가격']\n",
        "    # 물가지수(price index -> pidx), 2015년 기준 얼마나 오르고 내렸는지\n",
        "    total_pidx = df['총물가지수']\n",
        "    prod_pidx = df['상품']\n",
        "    agricul_marine_prod_pidx = df['농축수산물']\n",
        "    indust_prod_pidx = df['공업제품']\n",
        "    serv_pidx = df['서비스']\n",
        "    pub_serv_pidx = df['공공서비스']\n",
        "    per_serv_pidx = df['개인서비스']\n",
        "    house_pidx = df['집세']\n",
        "\n",
        "    # 정규화 해야하는 데이터셋\n",
        "    prams = [precipi_avg, precipi_max,             # 강수량\n",
        "            temper_avg, temper_max, temper_min,    # 기온\n",
        "            windSpeed_avg, windSpeed_max,          # 풍속\n",
        "            humidity_avg, humidity_min,            # 습도\n",
        "            sunshine,                              # 일조량\n",
        "            insolation,                            # 일사량\n",
        "            crops_price,                           # 해당 농작물 월별 가격\n",
        "            diesel_price,                          # 월별 경유 가격\n",
        "            last_amount_import,                    # 전년 수입량\n",
        "            # 물가지수\n",
        "            total_pidx, prod_pidx, agricul_marine_prod_pidx, indust_prod_pidx, serv_pidx, pub_serv_pidx, per_serv_pidx, house_pidx,\n",
        "            ]\n",
        "\n",
        "    dataset.append(prams)"
      ],
      "execution_count": 79,
      "outputs": []
    },
    {
      "cell_type": "markdown",
      "metadata": {
        "id": "AtnE8nF3927h"
      },
      "source": [
        "### Data preprocessing"
      ]
    },
    {
      "cell_type": "code",
      "metadata": {
        "id": "hR4aVA0E97aI",
        "colab": {
          "base_uri": "https://localhost:8080/"
        },
        "outputId": "0ed9f359-9eee-4cce-9842-0ac9fe299197"
      },
      "source": [
        "''' 정규화 '''\n",
        "# last_prams\n",
        "norm_last = []\n",
        "for idx, pram in enumerate(last_prams) :\n",
        "    tmp_last = []\n",
        "    for next in range(0, (END_YEAR-START_YEAR)+1) :\n",
        "        tmp_df = pram\n",
        "\n",
        "        cur_year = START_YEAR + next\n",
        "        year_list = tmp_df.index.values.tolist()\n",
        "        if cur_year-4 < year_list[-1] : year_list = year_list[year_list.index(cur_year):len(year_list)] # 5년간 데이터가 없을 경우\n",
        "        else : year_list = year_list[year_list.index(cur_year):year_list.index(cur_year-4)+1]           # 5년간 데이터가 있는 경우\n",
        "\n",
        "        tmp_df = tmp_df.loc[year_list]\n",
        "        tmp_last.append(Normalization(tmp_df).to_numpy()[0])\n",
        "    norm_last.append(tmp_last)\n",
        "\n",
        "# prams\n",
        "for idx, data in enumerate(dataset) :\n",
        "    for i, pram in enumerate(data) :\n",
        "        pram = Normalization(pram)\n",
        "        pram = pram.to_numpy()\n",
        "\n",
        "        dataset[idx][i] = pram\n",
        "\n",
        "''' 데이터셋 구축 '''\n",
        "X_dataset = []\n",
        "y_dataset = []\n",
        "\n",
        "# X, y 데이터셋 구분\n",
        "for cur, year in enumerate(dataset) :\n",
        "    tmp_X1 = [[], [], [], [], []] # 1~5월\n",
        "    tmp_y1 = [] # 6월\n",
        "    tmp_X2 = [[], [], [], [] ,[]] # 7~11월\n",
        "    tmp_y2 = [] # 12월\n",
        "    for idx, data in enumerate(year) :\n",
        "        for month in range(0, 12) :\n",
        "            if idx == 12 : \n",
        "                if month == 5 : tmp_y1.append(data[month])\n",
        "                elif month == 11: tmp_y2.append(data[month])\n",
        "            else :\n",
        "                if month < 5 : tmp_X1[month].append(data[month])\n",
        "                elif month > 5 and month < 11 : tmp_X2[month-6].append(data[month])\n",
        "\n",
        "    for last_data in norm_last :\n",
        "        for month in tmp_X1 : month.append(last_data[cur])\n",
        "        for month in tmp_X2 : month.append(last_data[cur])\n",
        "    \n",
        "    X_dataset.append(tmp_X1)\n",
        "    y_dataset.append(tmp_y1)\n",
        "    X_dataset.append(tmp_X2)\n",
        "    y_dataset.append(tmp_y2)\n",
        "\n",
        "# 데이터 형변환\n",
        "X_dataset = np.array(X_dataset)\n",
        "y_dataset = np.array(y_dataset)\n",
        "\n",
        "# reshape X_dataset\n",
        "X_dataset = X_dataset.reshape(X_dataset.shape[0], X_dataset.shape[1] * X_dataset.shape[2], 1)\n",
        "\n",
        "# Data division (Train : Test = 8 : 2)\n",
        "X_train, X_test, y_train, y_test = train_test_split(X_dataset, y_dataset, test_size = 0.2)\n",
        "print(\"########## Train + Test (X,) (y,) / Test (X,) (y,) ##########\")\n",
        "print(X_train.shape, y_train.shape, X_test.shape, y_test.shape)\n",
        "\n",
        "# Data division (Train : Validation = 6.5 : 3.5)\n",
        "X_train, X_val, y_train, y_val = train_test_split(X_train, y_train, test_size = 0.35)\n",
        "print(\"########## Train (X,) (y,) / Validation (X,) (y,) ##########\")\n",
        "print(X_train.shape, y_train.shape, X_val.shape, y_val.shape)"
      ],
      "execution_count": 80,
      "outputs": [
        {
          "output_type": "stream",
          "name": "stdout",
          "text": [
            "########## Train + Test (X,) (y,) / Test (X,) (y,) ##########\n",
            "(24, 120, 1) (24, 1) (6, 120, 1) (6, 1)\n",
            "########## Train (X,) (y,) / Validation (X,) (y,) ##########\n",
            "(15, 120, 1) (15, 1) (9, 120, 1) (9, 1)\n"
          ]
        }
      ]
    },
    {
      "cell_type": "markdown",
      "metadata": {
        "id": "-P4ubOMj-YWG"
      },
      "source": [
        "### Modeling"
      ]
    },
    {
      "cell_type": "code",
      "metadata": {
        "id": "4GpM_MnL-Ydz",
        "colab": {
          "base_uri": "https://localhost:8080/"
        },
        "outputId": "a2e6effd-73a1-4b37-b319-200196306db1"
      },
      "source": [
        "model = Sequential()\n",
        "\n",
        "model.add(Bidirectional(LSTM(64,                    # 해당 층의 노드 개수\n",
        "                       input_shape=(15, 120, 1),    # input_shape=?\n",
        "                       return_sequences=True)))     # return_sequences == 각 시퀀스를 출력할지\n",
        "model.add(Dropout(0.01))                            # 과적합 방지용 Ex. Dropout 20%(==0.2)\n",
        "model.add(Bidirectional(LSTM(16)))\n",
        "model.add(Dense(1, activation='relu'))\n",
        "\n",
        "model.build(input_shape=(15, 120, 1))\n",
        "model.compile(loss=losses.MeanSquaredError(),\n",
        "              optimizer=Adam(learning_rate=0.0001), # pram ex. learning_rate=0.0001\n",
        "              metrics=[metrics.MeanSquaredError()]\n",
        "              )\n",
        "\n",
        "model.summary()"
      ],
      "execution_count": 102,
      "outputs": [
        {
          "output_type": "stream",
          "name": "stdout",
          "text": [
            "Model: \"sequential_39\"\n",
            "_________________________________________________________________\n",
            " Layer (type)                Output Shape              Param #   \n",
            "=================================================================\n",
            " bidirectional_67 (Bidirecti  (15, 120, 128)           33792     \n",
            " onal)                                                           \n",
            "                                                                 \n",
            " dropout_67 (Dropout)        (15, 120, 128)            0         \n",
            "                                                                 \n",
            " bidirectional_68 (Bidirecti  (15, 32)                 18560     \n",
            " onal)                                                           \n",
            "                                                                 \n",
            " dense_42 (Dense)            (15, 1)                   33        \n",
            "                                                                 \n",
            "=================================================================\n",
            "Total params: 52,385\n",
            "Trainable params: 52,385\n",
            "Non-trainable params: 0\n",
            "_________________________________________________________________\n"
          ]
        }
      ]
    },
    {
      "cell_type": "markdown",
      "metadata": {
        "id": "AQKnA-yk-bs5"
      },
      "source": [
        "### Learning"
      ]
    },
    {
      "cell_type": "code",
      "metadata": {
        "id": "7pgorD0U-bLv",
        "colab": {
          "base_uri": "https://localhost:8080/",
          "height": 1000
        },
        "outputId": "d6cd66dd-7407-445d-e348-50577c6ff091"
      },
      "source": [
        "history = model.fit(X_train, y_train,\n",
        "                    validation_data = (X_val, y_val),\n",
        "                    batch_size = 20,\n",
        "                    epochs = 204,                     # Train set's 10%\n",
        "                    verbose = 1,                      # 0=silent, 1=progress bar, 2=one line per epoch.\n",
        "                    )\n",
        "\n",
        "# loss and acc graph (train and val)\n",
        "history_df = pd.DataFrame(history.history)\n",
        "history_df[[\"loss\", \"val_loss\"]].plot()"
      ],
      "execution_count": 103,
      "outputs": [
        {
          "output_type": "stream",
          "name": "stdout",
          "text": [
            "Epoch 1/204\n",
            "1/1 [==============================] - 10s 10s/step - loss: 0.4216 - mean_squared_error: 0.4216 - val_loss: 0.4497 - val_mean_squared_error: 0.4497\n",
            "Epoch 2/204\n",
            "1/1 [==============================] - 0s 166ms/step - loss: 0.4129 - mean_squared_error: 0.4129 - val_loss: 0.4401 - val_mean_squared_error: 0.4401\n",
            "Epoch 3/204\n",
            "1/1 [==============================] - 0s 166ms/step - loss: 0.4036 - mean_squared_error: 0.4036 - val_loss: 0.4306 - val_mean_squared_error: 0.4306\n",
            "Epoch 4/204\n",
            "1/1 [==============================] - 0s 168ms/step - loss: 0.3928 - mean_squared_error: 0.3928 - val_loss: 0.4213 - val_mean_squared_error: 0.4213\n",
            "Epoch 5/204\n",
            "1/1 [==============================] - 0s 168ms/step - loss: 0.3853 - mean_squared_error: 0.3853 - val_loss: 0.4122 - val_mean_squared_error: 0.4122\n",
            "Epoch 6/204\n",
            "1/1 [==============================] - 0s 163ms/step - loss: 0.3776 - mean_squared_error: 0.3776 - val_loss: 0.4033 - val_mean_squared_error: 0.4033\n",
            "Epoch 7/204\n",
            "1/1 [==============================] - 0s 169ms/step - loss: 0.3689 - mean_squared_error: 0.3689 - val_loss: 0.3946 - val_mean_squared_error: 0.3946\n",
            "Epoch 8/204\n",
            "1/1 [==============================] - 0s 166ms/step - loss: 0.3613 - mean_squared_error: 0.3613 - val_loss: 0.3861 - val_mean_squared_error: 0.3861\n",
            "Epoch 9/204\n",
            "1/1 [==============================] - 0s 168ms/step - loss: 0.3532 - mean_squared_error: 0.3532 - val_loss: 0.3777 - val_mean_squared_error: 0.3777\n",
            "Epoch 10/204\n",
            "1/1 [==============================] - 0s 165ms/step - loss: 0.3460 - mean_squared_error: 0.3460 - val_loss: 0.3695 - val_mean_squared_error: 0.3695\n",
            "Epoch 11/204\n",
            "1/1 [==============================] - 0s 167ms/step - loss: 0.3387 - mean_squared_error: 0.3387 - val_loss: 0.3615 - val_mean_squared_error: 0.3615\n",
            "Epoch 12/204\n",
            "1/1 [==============================] - 0s 198ms/step - loss: 0.3315 - mean_squared_error: 0.3315 - val_loss: 0.3537 - val_mean_squared_error: 0.3537\n",
            "Epoch 13/204\n",
            "1/1 [==============================] - 0s 160ms/step - loss: 0.3247 - mean_squared_error: 0.3247 - val_loss: 0.3460 - val_mean_squared_error: 0.3460\n",
            "Epoch 14/204\n",
            "1/1 [==============================] - 0s 165ms/step - loss: 0.3157 - mean_squared_error: 0.3157 - val_loss: 0.3385 - val_mean_squared_error: 0.3385\n",
            "Epoch 15/204\n",
            "1/1 [==============================] - 0s 168ms/step - loss: 0.3096 - mean_squared_error: 0.3096 - val_loss: 0.3312 - val_mean_squared_error: 0.3312\n",
            "Epoch 16/204\n",
            "1/1 [==============================] - 0s 165ms/step - loss: 0.3020 - mean_squared_error: 0.3020 - val_loss: 0.3241 - val_mean_squared_error: 0.3241\n",
            "Epoch 17/204\n",
            "1/1 [==============================] - 0s 168ms/step - loss: 0.2945 - mean_squared_error: 0.2945 - val_loss: 0.3171 - val_mean_squared_error: 0.3171\n",
            "Epoch 18/204\n",
            "1/1 [==============================] - 0s 183ms/step - loss: 0.2893 - mean_squared_error: 0.2893 - val_loss: 0.3103 - val_mean_squared_error: 0.3103\n",
            "Epoch 19/204\n",
            "1/1 [==============================] - 0s 159ms/step - loss: 0.2818 - mean_squared_error: 0.2818 - val_loss: 0.3036 - val_mean_squared_error: 0.3036\n",
            "Epoch 20/204\n",
            "1/1 [==============================] - 0s 167ms/step - loss: 0.2771 - mean_squared_error: 0.2771 - val_loss: 0.2972 - val_mean_squared_error: 0.2972\n",
            "Epoch 21/204\n",
            "1/1 [==============================] - 0s 164ms/step - loss: 0.2699 - mean_squared_error: 0.2699 - val_loss: 0.2909 - val_mean_squared_error: 0.2909\n",
            "Epoch 22/204\n",
            "1/1 [==============================] - 0s 173ms/step - loss: 0.2642 - mean_squared_error: 0.2642 - val_loss: 0.2847 - val_mean_squared_error: 0.2847\n",
            "Epoch 23/204\n",
            "1/1 [==============================] - 0s 166ms/step - loss: 0.2589 - mean_squared_error: 0.2589 - val_loss: 0.2788 - val_mean_squared_error: 0.2788\n",
            "Epoch 24/204\n",
            "1/1 [==============================] - 0s 163ms/step - loss: 0.2537 - mean_squared_error: 0.2537 - val_loss: 0.2730 - val_mean_squared_error: 0.2730\n",
            "Epoch 25/204\n",
            "1/1 [==============================] - 0s 166ms/step - loss: 0.2486 - mean_squared_error: 0.2486 - val_loss: 0.2674 - val_mean_squared_error: 0.2674\n",
            "Epoch 26/204\n",
            "1/1 [==============================] - 0s 169ms/step - loss: 0.2426 - mean_squared_error: 0.2426 - val_loss: 0.2619 - val_mean_squared_error: 0.2619\n",
            "Epoch 27/204\n",
            "1/1 [==============================] - 0s 160ms/step - loss: 0.2373 - mean_squared_error: 0.2373 - val_loss: 0.2567 - val_mean_squared_error: 0.2567\n",
            "Epoch 28/204\n",
            "1/1 [==============================] - 0s 163ms/step - loss: 0.2328 - mean_squared_error: 0.2328 - val_loss: 0.2516 - val_mean_squared_error: 0.2516\n",
            "Epoch 29/204\n",
            "1/1 [==============================] - 0s 170ms/step - loss: 0.2274 - mean_squared_error: 0.2274 - val_loss: 0.2467 - val_mean_squared_error: 0.2467\n",
            "Epoch 30/204\n",
            "1/1 [==============================] - 0s 169ms/step - loss: 0.2229 - mean_squared_error: 0.2229 - val_loss: 0.2419 - val_mean_squared_error: 0.2419\n",
            "Epoch 31/204\n",
            "1/1 [==============================] - 0s 166ms/step - loss: 0.2175 - mean_squared_error: 0.2175 - val_loss: 0.2374 - val_mean_squared_error: 0.2374\n",
            "Epoch 32/204\n",
            "1/1 [==============================] - 0s 159ms/step - loss: 0.2135 - mean_squared_error: 0.2135 - val_loss: 0.2330 - val_mean_squared_error: 0.2330\n",
            "Epoch 33/204\n",
            "1/1 [==============================] - 0s 171ms/step - loss: 0.2106 - mean_squared_error: 0.2106 - val_loss: 0.2288 - val_mean_squared_error: 0.2288\n",
            "Epoch 34/204\n",
            "1/1 [==============================] - 0s 175ms/step - loss: 0.2060 - mean_squared_error: 0.2060 - val_loss: 0.2248 - val_mean_squared_error: 0.2248\n",
            "Epoch 35/204\n",
            "1/1 [==============================] - 0s 162ms/step - loss: 0.2015 - mean_squared_error: 0.2015 - val_loss: 0.2210 - val_mean_squared_error: 0.2210\n",
            "Epoch 36/204\n",
            "1/1 [==============================] - 0s 164ms/step - loss: 0.1979 - mean_squared_error: 0.1979 - val_loss: 0.2174 - val_mean_squared_error: 0.2174\n",
            "Epoch 37/204\n",
            "1/1 [==============================] - 0s 162ms/step - loss: 0.1937 - mean_squared_error: 0.1937 - val_loss: 0.2139 - val_mean_squared_error: 0.2139\n",
            "Epoch 38/204\n",
            "1/1 [==============================] - 0s 168ms/step - loss: 0.1898 - mean_squared_error: 0.1898 - val_loss: 0.2107 - val_mean_squared_error: 0.2107\n",
            "Epoch 39/204\n",
            "1/1 [==============================] - 0s 168ms/step - loss: 0.1873 - mean_squared_error: 0.1873 - val_loss: 0.2076 - val_mean_squared_error: 0.2076\n",
            "Epoch 40/204\n",
            "1/1 [==============================] - 0s 169ms/step - loss: 0.1843 - mean_squared_error: 0.1843 - val_loss: 0.2047 - val_mean_squared_error: 0.2047\n",
            "Epoch 41/204\n",
            "1/1 [==============================] - 0s 168ms/step - loss: 0.1820 - mean_squared_error: 0.1820 - val_loss: 0.2021 - val_mean_squared_error: 0.2021\n",
            "Epoch 42/204\n",
            "1/1 [==============================] - 0s 162ms/step - loss: 0.1789 - mean_squared_error: 0.1789 - val_loss: 0.1996 - val_mean_squared_error: 0.1996\n",
            "Epoch 43/204\n",
            "1/1 [==============================] - 0s 166ms/step - loss: 0.1759 - mean_squared_error: 0.1759 - val_loss: 0.1973 - val_mean_squared_error: 0.1973\n",
            "Epoch 44/204\n",
            "1/1 [==============================] - 0s 164ms/step - loss: 0.1739 - mean_squared_error: 0.1739 - val_loss: 0.1952 - val_mean_squared_error: 0.1952\n",
            "Epoch 45/204\n",
            "1/1 [==============================] - 0s 161ms/step - loss: 0.1711 - mean_squared_error: 0.1711 - val_loss: 0.1933 - val_mean_squared_error: 0.1933\n",
            "Epoch 46/204\n",
            "1/1 [==============================] - 0s 167ms/step - loss: 0.1697 - mean_squared_error: 0.1697 - val_loss: 0.1916 - val_mean_squared_error: 0.1916\n",
            "Epoch 47/204\n",
            "1/1 [==============================] - 0s 172ms/step - loss: 0.1676 - mean_squared_error: 0.1676 - val_loss: 0.1901 - val_mean_squared_error: 0.1901\n",
            "Epoch 48/204\n",
            "1/1 [==============================] - 0s 161ms/step - loss: 0.1661 - mean_squared_error: 0.1661 - val_loss: 0.1887 - val_mean_squared_error: 0.1887\n",
            "Epoch 49/204\n",
            "1/1 [==============================] - 0s 169ms/step - loss: 0.1641 - mean_squared_error: 0.1641 - val_loss: 0.1875 - val_mean_squared_error: 0.1875\n",
            "Epoch 50/204\n",
            "1/1 [==============================] - 0s 168ms/step - loss: 0.1627 - mean_squared_error: 0.1627 - val_loss: 0.1865 - val_mean_squared_error: 0.1865\n",
            "Epoch 51/204\n",
            "1/1 [==============================] - 0s 172ms/step - loss: 0.1623 - mean_squared_error: 0.1623 - val_loss: 0.1857 - val_mean_squared_error: 0.1857\n",
            "Epoch 52/204\n",
            "1/1 [==============================] - 0s 167ms/step - loss: 0.1601 - mean_squared_error: 0.1601 - val_loss: 0.1849 - val_mean_squared_error: 0.1849\n",
            "Epoch 53/204\n",
            "1/1 [==============================] - 0s 164ms/step - loss: 0.1606 - mean_squared_error: 0.1606 - val_loss: 0.1844 - val_mean_squared_error: 0.1844\n",
            "Epoch 54/204\n",
            "1/1 [==============================] - 0s 161ms/step - loss: 0.1595 - mean_squared_error: 0.1595 - val_loss: 0.1839 - val_mean_squared_error: 0.1839\n",
            "Epoch 55/204\n",
            "1/1 [==============================] - 0s 167ms/step - loss: 0.1590 - mean_squared_error: 0.1590 - val_loss: 0.1836 - val_mean_squared_error: 0.1836\n",
            "Epoch 56/204\n",
            "1/1 [==============================] - 0s 164ms/step - loss: 0.1581 - mean_squared_error: 0.1581 - val_loss: 0.1833 - val_mean_squared_error: 0.1833\n",
            "Epoch 57/204\n",
            "1/1 [==============================] - 0s 170ms/step - loss: 0.1571 - mean_squared_error: 0.1571 - val_loss: 0.1832 - val_mean_squared_error: 0.1832\n",
            "Epoch 58/204\n",
            "1/1 [==============================] - 0s 164ms/step - loss: 0.1574 - mean_squared_error: 0.1574 - val_loss: 0.1831 - val_mean_squared_error: 0.1831\n",
            "Epoch 59/204\n",
            "1/1 [==============================] - 0s 168ms/step - loss: 0.1566 - mean_squared_error: 0.1566 - val_loss: 0.1830 - val_mean_squared_error: 0.1830\n",
            "Epoch 60/204\n",
            "1/1 [==============================] - 0s 164ms/step - loss: 0.1566 - mean_squared_error: 0.1566 - val_loss: 0.1830 - val_mean_squared_error: 0.1830\n",
            "Epoch 61/204\n",
            "1/1 [==============================] - 0s 170ms/step - loss: 0.1553 - mean_squared_error: 0.1553 - val_loss: 0.1831 - val_mean_squared_error: 0.1831\n",
            "Epoch 62/204\n",
            "1/1 [==============================] - 0s 163ms/step - loss: 0.1563 - mean_squared_error: 0.1563 - val_loss: 0.1831 - val_mean_squared_error: 0.1831\n",
            "Epoch 63/204\n",
            "1/1 [==============================] - 0s 158ms/step - loss: 0.1564 - mean_squared_error: 0.1564 - val_loss: 0.1832 - val_mean_squared_error: 0.1832\n",
            "Epoch 64/204\n",
            "1/1 [==============================] - 0s 166ms/step - loss: 0.1561 - mean_squared_error: 0.1561 - val_loss: 0.1833 - val_mean_squared_error: 0.1833\n",
            "Epoch 65/204\n",
            "1/1 [==============================] - 0s 168ms/step - loss: 0.1565 - mean_squared_error: 0.1565 - val_loss: 0.1833 - val_mean_squared_error: 0.1833\n",
            "Epoch 66/204\n",
            "1/1 [==============================] - 0s 163ms/step - loss: 0.1561 - mean_squared_error: 0.1561 - val_loss: 0.1833 - val_mean_squared_error: 0.1833\n",
            "Epoch 67/204\n",
            "1/1 [==============================] - 0s 164ms/step - loss: 0.1563 - mean_squared_error: 0.1563 - val_loss: 0.1834 - val_mean_squared_error: 0.1834\n",
            "Epoch 68/204\n",
            "1/1 [==============================] - 0s 165ms/step - loss: 0.1560 - mean_squared_error: 0.1560 - val_loss: 0.1833 - val_mean_squared_error: 0.1833\n",
            "Epoch 69/204\n",
            "1/1 [==============================] - 0s 173ms/step - loss: 0.1558 - mean_squared_error: 0.1558 - val_loss: 0.1833 - val_mean_squared_error: 0.1833\n",
            "Epoch 70/204\n",
            "1/1 [==============================] - 0s 166ms/step - loss: 0.1558 - mean_squared_error: 0.1558 - val_loss: 0.1833 - val_mean_squared_error: 0.1833\n",
            "Epoch 71/204\n",
            "1/1 [==============================] - 0s 163ms/step - loss: 0.1537 - mean_squared_error: 0.1537 - val_loss: 0.1832 - val_mean_squared_error: 0.1832\n",
            "Epoch 72/204\n",
            "1/1 [==============================] - 0s 166ms/step - loss: 0.1555 - mean_squared_error: 0.1555 - val_loss: 0.1831 - val_mean_squared_error: 0.1831\n",
            "Epoch 73/204\n",
            "1/1 [==============================] - 0s 163ms/step - loss: 0.1550 - mean_squared_error: 0.1550 - val_loss: 0.1829 - val_mean_squared_error: 0.1829\n",
            "Epoch 74/204\n",
            "1/1 [==============================] - 0s 167ms/step - loss: 0.1544 - mean_squared_error: 0.1544 - val_loss: 0.1828 - val_mean_squared_error: 0.1828\n",
            "Epoch 75/204\n",
            "1/1 [==============================] - 0s 163ms/step - loss: 0.1551 - mean_squared_error: 0.1551 - val_loss: 0.1827 - val_mean_squared_error: 0.1827\n",
            "Epoch 76/204\n",
            "1/1 [==============================] - 0s 168ms/step - loss: 0.1545 - mean_squared_error: 0.1545 - val_loss: 0.1825 - val_mean_squared_error: 0.1825\n",
            "Epoch 77/204\n",
            "1/1 [==============================] - 0s 163ms/step - loss: 0.1549 - mean_squared_error: 0.1549 - val_loss: 0.1823 - val_mean_squared_error: 0.1823\n",
            "Epoch 78/204\n",
            "1/1 [==============================] - 0s 163ms/step - loss: 0.1545 - mean_squared_error: 0.1545 - val_loss: 0.1821 - val_mean_squared_error: 0.1821\n",
            "Epoch 79/204\n",
            "1/1 [==============================] - 0s 160ms/step - loss: 0.1540 - mean_squared_error: 0.1540 - val_loss: 0.1819 - val_mean_squared_error: 0.1819\n",
            "Epoch 80/204\n",
            "1/1 [==============================] - 0s 164ms/step - loss: 0.1556 - mean_squared_error: 0.1556 - val_loss: 0.1817 - val_mean_squared_error: 0.1817\n",
            "Epoch 81/204\n",
            "1/1 [==============================] - 0s 162ms/step - loss: 0.1532 - mean_squared_error: 0.1532 - val_loss: 0.1816 - val_mean_squared_error: 0.1816\n",
            "Epoch 82/204\n",
            "1/1 [==============================] - 0s 168ms/step - loss: 0.1550 - mean_squared_error: 0.1550 - val_loss: 0.1814 - val_mean_squared_error: 0.1814\n",
            "Epoch 83/204\n",
            "1/1 [==============================] - 0s 160ms/step - loss: 0.1529 - mean_squared_error: 0.1529 - val_loss: 0.1812 - val_mean_squared_error: 0.1812\n",
            "Epoch 84/204\n",
            "1/1 [==============================] - 0s 167ms/step - loss: 0.1532 - mean_squared_error: 0.1532 - val_loss: 0.1810 - val_mean_squared_error: 0.1810\n",
            "Epoch 85/204\n",
            "1/1 [==============================] - 0s 168ms/step - loss: 0.1535 - mean_squared_error: 0.1535 - val_loss: 0.1808 - val_mean_squared_error: 0.1808\n",
            "Epoch 86/204\n",
            "1/1 [==============================] - 0s 168ms/step - loss: 0.1534 - mean_squared_error: 0.1534 - val_loss: 0.1807 - val_mean_squared_error: 0.1807\n",
            "Epoch 87/204\n",
            "1/1 [==============================] - 0s 168ms/step - loss: 0.1529 - mean_squared_error: 0.1529 - val_loss: 0.1805 - val_mean_squared_error: 0.1805\n",
            "Epoch 88/204\n",
            "1/1 [==============================] - 0s 167ms/step - loss: 0.1531 - mean_squared_error: 0.1531 - val_loss: 0.1803 - val_mean_squared_error: 0.1803\n",
            "Epoch 89/204\n",
            "1/1 [==============================] - 0s 166ms/step - loss: 0.1530 - mean_squared_error: 0.1530 - val_loss: 0.1802 - val_mean_squared_error: 0.1802\n",
            "Epoch 90/204\n",
            "1/1 [==============================] - 0s 168ms/step - loss: 0.1527 - mean_squared_error: 0.1527 - val_loss: 0.1801 - val_mean_squared_error: 0.1801\n",
            "Epoch 91/204\n",
            "1/1 [==============================] - 0s 163ms/step - loss: 0.1523 - mean_squared_error: 0.1523 - val_loss: 0.1799 - val_mean_squared_error: 0.1799\n",
            "Epoch 92/204\n",
            "1/1 [==============================] - 0s 165ms/step - loss: 0.1515 - mean_squared_error: 0.1515 - val_loss: 0.1798 - val_mean_squared_error: 0.1798\n",
            "Epoch 93/204\n",
            "1/1 [==============================] - 0s 163ms/step - loss: 0.1511 - mean_squared_error: 0.1511 - val_loss: 0.1797 - val_mean_squared_error: 0.1797\n",
            "Epoch 94/204\n",
            "1/1 [==============================] - 0s 173ms/step - loss: 0.1540 - mean_squared_error: 0.1540 - val_loss: 0.1796 - val_mean_squared_error: 0.1796\n",
            "Epoch 95/204\n",
            "1/1 [==============================] - 0s 183ms/step - loss: 0.1515 - mean_squared_error: 0.1515 - val_loss: 0.1795 - val_mean_squared_error: 0.1795\n",
            "Epoch 96/204\n",
            "1/1 [==============================] - 0s 161ms/step - loss: 0.1524 - mean_squared_error: 0.1524 - val_loss: 0.1793 - val_mean_squared_error: 0.1793\n",
            "Epoch 97/204\n",
            "1/1 [==============================] - 0s 166ms/step - loss: 0.1514 - mean_squared_error: 0.1514 - val_loss: 0.1792 - val_mean_squared_error: 0.1792\n",
            "Epoch 98/204\n",
            "1/1 [==============================] - 0s 175ms/step - loss: 0.1517 - mean_squared_error: 0.1517 - val_loss: 0.1791 - val_mean_squared_error: 0.1791\n",
            "Epoch 99/204\n",
            "1/1 [==============================] - 0s 166ms/step - loss: 0.1521 - mean_squared_error: 0.1521 - val_loss: 0.1791 - val_mean_squared_error: 0.1791\n",
            "Epoch 100/204\n",
            "1/1 [==============================] - 0s 167ms/step - loss: 0.1515 - mean_squared_error: 0.1515 - val_loss: 0.1790 - val_mean_squared_error: 0.1790\n",
            "Epoch 101/204\n",
            "1/1 [==============================] - 0s 176ms/step - loss: 0.1515 - mean_squared_error: 0.1515 - val_loss: 0.1789 - val_mean_squared_error: 0.1789\n",
            "Epoch 102/204\n",
            "1/1 [==============================] - 0s 159ms/step - loss: 0.1515 - mean_squared_error: 0.1515 - val_loss: 0.1788 - val_mean_squared_error: 0.1788\n",
            "Epoch 103/204\n",
            "1/1 [==============================] - 0s 187ms/step - loss: 0.1504 - mean_squared_error: 0.1504 - val_loss: 0.1787 - val_mean_squared_error: 0.1787\n",
            "Epoch 104/204\n",
            "1/1 [==============================] - 0s 160ms/step - loss: 0.1511 - mean_squared_error: 0.1511 - val_loss: 0.1786 - val_mean_squared_error: 0.1786\n",
            "Epoch 105/204\n",
            "1/1 [==============================] - 0s 163ms/step - loss: 0.1502 - mean_squared_error: 0.1502 - val_loss: 0.1785 - val_mean_squared_error: 0.1785\n",
            "Epoch 106/204\n",
            "1/1 [==============================] - 0s 185ms/step - loss: 0.1510 - mean_squared_error: 0.1510 - val_loss: 0.1785 - val_mean_squared_error: 0.1785\n",
            "Epoch 107/204\n",
            "1/1 [==============================] - 0s 163ms/step - loss: 0.1508 - mean_squared_error: 0.1508 - val_loss: 0.1784 - val_mean_squared_error: 0.1784\n",
            "Epoch 108/204\n",
            "1/1 [==============================] - 0s 185ms/step - loss: 0.1498 - mean_squared_error: 0.1498 - val_loss: 0.1783 - val_mean_squared_error: 0.1783\n",
            "Epoch 109/204\n",
            "1/1 [==============================] - 0s 162ms/step - loss: 0.1505 - mean_squared_error: 0.1505 - val_loss: 0.1782 - val_mean_squared_error: 0.1782\n",
            "Epoch 110/204\n",
            "1/1 [==============================] - 0s 173ms/step - loss: 0.1514 - mean_squared_error: 0.1514 - val_loss: 0.1782 - val_mean_squared_error: 0.1782\n",
            "Epoch 111/204\n",
            "1/1 [==============================] - 0s 161ms/step - loss: 0.1499 - mean_squared_error: 0.1499 - val_loss: 0.1781 - val_mean_squared_error: 0.1781\n",
            "Epoch 112/204\n",
            "1/1 [==============================] - 0s 154ms/step - loss: 0.1500 - mean_squared_error: 0.1500 - val_loss: 0.1780 - val_mean_squared_error: 0.1780\n",
            "Epoch 113/204\n",
            "1/1 [==============================] - 0s 167ms/step - loss: 0.1502 - mean_squared_error: 0.1502 - val_loss: 0.1780 - val_mean_squared_error: 0.1780\n",
            "Epoch 114/204\n",
            "1/1 [==============================] - 0s 167ms/step - loss: 0.1498 - mean_squared_error: 0.1498 - val_loss: 0.1779 - val_mean_squared_error: 0.1779\n",
            "Epoch 115/204\n",
            "1/1 [==============================] - 0s 183ms/step - loss: 0.1495 - mean_squared_error: 0.1495 - val_loss: 0.1778 - val_mean_squared_error: 0.1778\n",
            "Epoch 116/204\n",
            "1/1 [==============================] - 0s 161ms/step - loss: 0.1499 - mean_squared_error: 0.1499 - val_loss: 0.1778 - val_mean_squared_error: 0.1778\n",
            "Epoch 117/204\n",
            "1/1 [==============================] - 0s 170ms/step - loss: 0.1499 - mean_squared_error: 0.1499 - val_loss: 0.1777 - val_mean_squared_error: 0.1777\n",
            "Epoch 118/204\n",
            "1/1 [==============================] - 0s 166ms/step - loss: 0.1493 - mean_squared_error: 0.1493 - val_loss: 0.1777 - val_mean_squared_error: 0.1777\n",
            "Epoch 119/204\n",
            "1/1 [==============================] - 0s 164ms/step - loss: 0.1491 - mean_squared_error: 0.1491 - val_loss: 0.1776 - val_mean_squared_error: 0.1776\n",
            "Epoch 120/204\n",
            "1/1 [==============================] - 0s 165ms/step - loss: 0.1495 - mean_squared_error: 0.1495 - val_loss: 0.1775 - val_mean_squared_error: 0.1775\n",
            "Epoch 121/204\n",
            "1/1 [==============================] - 0s 168ms/step - loss: 0.1480 - mean_squared_error: 0.1480 - val_loss: 0.1775 - val_mean_squared_error: 0.1775\n",
            "Epoch 122/204\n",
            "1/1 [==============================] - 0s 176ms/step - loss: 0.1498 - mean_squared_error: 0.1498 - val_loss: 0.1774 - val_mean_squared_error: 0.1774\n",
            "Epoch 123/204\n",
            "1/1 [==============================] - 0s 164ms/step - loss: 0.1477 - mean_squared_error: 0.1477 - val_loss: 0.1774 - val_mean_squared_error: 0.1774\n",
            "Epoch 124/204\n",
            "1/1 [==============================] - 0s 177ms/step - loss: 0.1484 - mean_squared_error: 0.1484 - val_loss: 0.1773 - val_mean_squared_error: 0.1773\n",
            "Epoch 125/204\n",
            "1/1 [==============================] - 0s 169ms/step - loss: 0.1479 - mean_squared_error: 0.1479 - val_loss: 0.1772 - val_mean_squared_error: 0.1772\n",
            "Epoch 126/204\n",
            "1/1 [==============================] - 0s 165ms/step - loss: 0.1483 - mean_squared_error: 0.1483 - val_loss: 0.1772 - val_mean_squared_error: 0.1772\n",
            "Epoch 127/204\n",
            "1/1 [==============================] - 0s 165ms/step - loss: 0.1490 - mean_squared_error: 0.1490 - val_loss: 0.1771 - val_mean_squared_error: 0.1771\n",
            "Epoch 128/204\n",
            "1/1 [==============================] - 0s 167ms/step - loss: 0.1493 - mean_squared_error: 0.1493 - val_loss: 0.1771 - val_mean_squared_error: 0.1771\n",
            "Epoch 129/204\n",
            "1/1 [==============================] - 0s 169ms/step - loss: 0.1497 - mean_squared_error: 0.1497 - val_loss: 0.1770 - val_mean_squared_error: 0.1770\n",
            "Epoch 130/204\n",
            "1/1 [==============================] - 0s 166ms/step - loss: 0.1491 - mean_squared_error: 0.1491 - val_loss: 0.1770 - val_mean_squared_error: 0.1770\n",
            "Epoch 131/204\n",
            "1/1 [==============================] - 0s 167ms/step - loss: 0.1482 - mean_squared_error: 0.1482 - val_loss: 0.1769 - val_mean_squared_error: 0.1769\n",
            "Epoch 132/204\n",
            "1/1 [==============================] - 0s 169ms/step - loss: 0.1496 - mean_squared_error: 0.1496 - val_loss: 0.1768 - val_mean_squared_error: 0.1768\n",
            "Epoch 133/204\n",
            "1/1 [==============================] - 0s 161ms/step - loss: 0.1473 - mean_squared_error: 0.1473 - val_loss: 0.1768 - val_mean_squared_error: 0.1768\n",
            "Epoch 134/204\n",
            "1/1 [==============================] - 0s 165ms/step - loss: 0.1481 - mean_squared_error: 0.1481 - val_loss: 0.1767 - val_mean_squared_error: 0.1767\n",
            "Epoch 135/204\n",
            "1/1 [==============================] - 0s 164ms/step - loss: 0.1482 - mean_squared_error: 0.1482 - val_loss: 0.1767 - val_mean_squared_error: 0.1767\n",
            "Epoch 136/204\n",
            "1/1 [==============================] - 0s 166ms/step - loss: 0.1491 - mean_squared_error: 0.1491 - val_loss: 0.1766 - val_mean_squared_error: 0.1766\n",
            "Epoch 137/204\n",
            "1/1 [==============================] - 0s 167ms/step - loss: 0.1470 - mean_squared_error: 0.1470 - val_loss: 0.1765 - val_mean_squared_error: 0.1765\n",
            "Epoch 138/204\n",
            "1/1 [==============================] - 0s 179ms/step - loss: 0.1491 - mean_squared_error: 0.1491 - val_loss: 0.1765 - val_mean_squared_error: 0.1765\n",
            "Epoch 139/204\n",
            "1/1 [==============================] - 0s 170ms/step - loss: 0.1476 - mean_squared_error: 0.1476 - val_loss: 0.1764 - val_mean_squared_error: 0.1764\n",
            "Epoch 140/204\n",
            "1/1 [==============================] - 0s 167ms/step - loss: 0.1467 - mean_squared_error: 0.1467 - val_loss: 0.1764 - val_mean_squared_error: 0.1764\n",
            "Epoch 141/204\n",
            "1/1 [==============================] - 0s 168ms/step - loss: 0.1485 - mean_squared_error: 0.1485 - val_loss: 0.1763 - val_mean_squared_error: 0.1763\n",
            "Epoch 142/204\n",
            "1/1 [==============================] - 0s 166ms/step - loss: 0.1468 - mean_squared_error: 0.1468 - val_loss: 0.1762 - val_mean_squared_error: 0.1762\n",
            "Epoch 143/204\n",
            "1/1 [==============================] - 0s 166ms/step - loss: 0.1475 - mean_squared_error: 0.1475 - val_loss: 0.1762 - val_mean_squared_error: 0.1762\n",
            "Epoch 144/204\n",
            "1/1 [==============================] - 0s 161ms/step - loss: 0.1466 - mean_squared_error: 0.1466 - val_loss: 0.1761 - val_mean_squared_error: 0.1761\n",
            "Epoch 145/204\n",
            "1/1 [==============================] - 0s 173ms/step - loss: 0.1474 - mean_squared_error: 0.1474 - val_loss: 0.1761 - val_mean_squared_error: 0.1761\n",
            "Epoch 146/204\n",
            "1/1 [==============================] - 0s 170ms/step - loss: 0.1477 - mean_squared_error: 0.1477 - val_loss: 0.1760 - val_mean_squared_error: 0.1760\n",
            "Epoch 147/204\n",
            "1/1 [==============================] - 0s 167ms/step - loss: 0.1464 - mean_squared_error: 0.1464 - val_loss: 0.1759 - val_mean_squared_error: 0.1759\n",
            "Epoch 148/204\n",
            "1/1 [==============================] - 0s 168ms/step - loss: 0.1475 - mean_squared_error: 0.1475 - val_loss: 0.1759 - val_mean_squared_error: 0.1759\n",
            "Epoch 149/204\n",
            "1/1 [==============================] - 0s 168ms/step - loss: 0.1469 - mean_squared_error: 0.1469 - val_loss: 0.1758 - val_mean_squared_error: 0.1758\n",
            "Epoch 150/204\n",
            "1/1 [==============================] - 0s 169ms/step - loss: 0.1470 - mean_squared_error: 0.1470 - val_loss: 0.1758 - val_mean_squared_error: 0.1758\n",
            "Epoch 151/204\n",
            "1/1 [==============================] - 0s 161ms/step - loss: 0.1475 - mean_squared_error: 0.1475 - val_loss: 0.1757 - val_mean_squared_error: 0.1757\n",
            "Epoch 152/204\n",
            "1/1 [==============================] - 0s 164ms/step - loss: 0.1467 - mean_squared_error: 0.1467 - val_loss: 0.1757 - val_mean_squared_error: 0.1757\n",
            "Epoch 153/204\n",
            "1/1 [==============================] - 0s 170ms/step - loss: 0.1470 - mean_squared_error: 0.1470 - val_loss: 0.1756 - val_mean_squared_error: 0.1756\n",
            "Epoch 154/204\n",
            "1/1 [==============================] - 0s 168ms/step - loss: 0.1469 - mean_squared_error: 0.1469 - val_loss: 0.1756 - val_mean_squared_error: 0.1756\n",
            "Epoch 155/204\n",
            "1/1 [==============================] - 0s 172ms/step - loss: 0.1465 - mean_squared_error: 0.1465 - val_loss: 0.1755 - val_mean_squared_error: 0.1755\n",
            "Epoch 156/204\n",
            "1/1 [==============================] - 0s 172ms/step - loss: 0.1470 - mean_squared_error: 0.1470 - val_loss: 0.1755 - val_mean_squared_error: 0.1755\n",
            "Epoch 157/204\n",
            "1/1 [==============================] - 0s 170ms/step - loss: 0.1457 - mean_squared_error: 0.1457 - val_loss: 0.1754 - val_mean_squared_error: 0.1754\n",
            "Epoch 158/204\n",
            "1/1 [==============================] - 0s 164ms/step - loss: 0.1456 - mean_squared_error: 0.1456 - val_loss: 0.1754 - val_mean_squared_error: 0.1754\n",
            "Epoch 159/204\n",
            "1/1 [==============================] - 0s 170ms/step - loss: 0.1471 - mean_squared_error: 0.1471 - val_loss: 0.1753 - val_mean_squared_error: 0.1753\n",
            "Epoch 160/204\n",
            "1/1 [==============================] - 0s 169ms/step - loss: 0.1467 - mean_squared_error: 0.1467 - val_loss: 0.1753 - val_mean_squared_error: 0.1753\n",
            "Epoch 161/204\n",
            "1/1 [==============================] - 0s 178ms/step - loss: 0.1458 - mean_squared_error: 0.1458 - val_loss: 0.1752 - val_mean_squared_error: 0.1752\n",
            "Epoch 162/204\n",
            "1/1 [==============================] - 0s 169ms/step - loss: 0.1466 - mean_squared_error: 0.1466 - val_loss: 0.1752 - val_mean_squared_error: 0.1752\n",
            "Epoch 163/204\n",
            "1/1 [==============================] - 0s 168ms/step - loss: 0.1463 - mean_squared_error: 0.1463 - val_loss: 0.1751 - val_mean_squared_error: 0.1751\n",
            "Epoch 164/204\n",
            "1/1 [==============================] - 0s 168ms/step - loss: 0.1446 - mean_squared_error: 0.1446 - val_loss: 0.1751 - val_mean_squared_error: 0.1751\n",
            "Epoch 165/204\n",
            "1/1 [==============================] - 0s 166ms/step - loss: 0.1455 - mean_squared_error: 0.1455 - val_loss: 0.1750 - val_mean_squared_error: 0.1750\n",
            "Epoch 166/204\n",
            "1/1 [==============================] - 0s 169ms/step - loss: 0.1463 - mean_squared_error: 0.1463 - val_loss: 0.1750 - val_mean_squared_error: 0.1750\n",
            "Epoch 167/204\n",
            "1/1 [==============================] - 0s 166ms/step - loss: 0.1464 - mean_squared_error: 0.1464 - val_loss: 0.1749 - val_mean_squared_error: 0.1749\n",
            "Epoch 168/204\n",
            "1/1 [==============================] - 0s 168ms/step - loss: 0.1452 - mean_squared_error: 0.1452 - val_loss: 0.1749 - val_mean_squared_error: 0.1749\n",
            "Epoch 169/204\n",
            "1/1 [==============================] - 0s 172ms/step - loss: 0.1464 - mean_squared_error: 0.1464 - val_loss: 0.1748 - val_mean_squared_error: 0.1748\n",
            "Epoch 170/204\n",
            "1/1 [==============================] - 0s 163ms/step - loss: 0.1453 - mean_squared_error: 0.1453 - val_loss: 0.1748 - val_mean_squared_error: 0.1748\n",
            "Epoch 171/204\n",
            "1/1 [==============================] - 0s 166ms/step - loss: 0.1460 - mean_squared_error: 0.1460 - val_loss: 0.1747 - val_mean_squared_error: 0.1747\n",
            "Epoch 172/204\n",
            "1/1 [==============================] - 0s 168ms/step - loss: 0.1448 - mean_squared_error: 0.1448 - val_loss: 0.1747 - val_mean_squared_error: 0.1747\n",
            "Epoch 173/204\n",
            "1/1 [==============================] - 0s 166ms/step - loss: 0.1452 - mean_squared_error: 0.1452 - val_loss: 0.1746 - val_mean_squared_error: 0.1746\n",
            "Epoch 174/204\n",
            "1/1 [==============================] - 0s 160ms/step - loss: 0.1459 - mean_squared_error: 0.1459 - val_loss: 0.1746 - val_mean_squared_error: 0.1746\n",
            "Epoch 175/204\n",
            "1/1 [==============================] - 0s 167ms/step - loss: 0.1458 - mean_squared_error: 0.1458 - val_loss: 0.1745 - val_mean_squared_error: 0.1745\n",
            "Epoch 176/204\n",
            "1/1 [==============================] - 0s 164ms/step - loss: 0.1451 - mean_squared_error: 0.1451 - val_loss: 0.1745 - val_mean_squared_error: 0.1745\n",
            "Epoch 177/204\n",
            "1/1 [==============================] - 0s 167ms/step - loss: 0.1459 - mean_squared_error: 0.1459 - val_loss: 0.1744 - val_mean_squared_error: 0.1744\n",
            "Epoch 178/204\n",
            "1/1 [==============================] - 0s 173ms/step - loss: 0.1458 - mean_squared_error: 0.1458 - val_loss: 0.1744 - val_mean_squared_error: 0.1744\n",
            "Epoch 179/204\n",
            "1/1 [==============================] - 0s 165ms/step - loss: 0.1452 - mean_squared_error: 0.1452 - val_loss: 0.1743 - val_mean_squared_error: 0.1743\n",
            "Epoch 180/204\n",
            "1/1 [==============================] - 0s 166ms/step - loss: 0.1452 - mean_squared_error: 0.1452 - val_loss: 0.1743 - val_mean_squared_error: 0.1743\n",
            "Epoch 181/204\n",
            "1/1 [==============================] - 0s 166ms/step - loss: 0.1451 - mean_squared_error: 0.1451 - val_loss: 0.1742 - val_mean_squared_error: 0.1742\n",
            "Epoch 182/204\n",
            "1/1 [==============================] - 0s 175ms/step - loss: 0.1451 - mean_squared_error: 0.1451 - val_loss: 0.1742 - val_mean_squared_error: 0.1742\n",
            "Epoch 183/204\n",
            "1/1 [==============================] - 0s 173ms/step - loss: 0.1448 - mean_squared_error: 0.1448 - val_loss: 0.1741 - val_mean_squared_error: 0.1741\n",
            "Epoch 184/204\n",
            "1/1 [==============================] - 0s 161ms/step - loss: 0.1447 - mean_squared_error: 0.1447 - val_loss: 0.1741 - val_mean_squared_error: 0.1741\n",
            "Epoch 185/204\n",
            "1/1 [==============================] - 0s 192ms/step - loss: 0.1456 - mean_squared_error: 0.1456 - val_loss: 0.1741 - val_mean_squared_error: 0.1741\n",
            "Epoch 186/204\n",
            "1/1 [==============================] - 0s 164ms/step - loss: 0.1450 - mean_squared_error: 0.1450 - val_loss: 0.1740 - val_mean_squared_error: 0.1740\n",
            "Epoch 187/204\n",
            "1/1 [==============================] - 0s 170ms/step - loss: 0.1442 - mean_squared_error: 0.1442 - val_loss: 0.1740 - val_mean_squared_error: 0.1740\n",
            "Epoch 188/204\n",
            "1/1 [==============================] - 0s 184ms/step - loss: 0.1441 - mean_squared_error: 0.1441 - val_loss: 0.1739 - val_mean_squared_error: 0.1739\n",
            "Epoch 189/204\n",
            "1/1 [==============================] - 0s 174ms/step - loss: 0.1442 - mean_squared_error: 0.1442 - val_loss: 0.1739 - val_mean_squared_error: 0.1739\n",
            "Epoch 190/204\n",
            "1/1 [==============================] - 0s 176ms/step - loss: 0.1441 - mean_squared_error: 0.1441 - val_loss: 0.1738 - val_mean_squared_error: 0.1738\n",
            "Epoch 191/204\n",
            "1/1 [==============================] - 0s 164ms/step - loss: 0.1443 - mean_squared_error: 0.1443 - val_loss: 0.1738 - val_mean_squared_error: 0.1738\n",
            "Epoch 192/204\n",
            "1/1 [==============================] - 0s 167ms/step - loss: 0.1435 - mean_squared_error: 0.1435 - val_loss: 0.1737 - val_mean_squared_error: 0.1737\n",
            "Epoch 193/204\n",
            "1/1 [==============================] - 0s 169ms/step - loss: 0.1448 - mean_squared_error: 0.1448 - val_loss: 0.1737 - val_mean_squared_error: 0.1737\n",
            "Epoch 194/204\n",
            "1/1 [==============================] - 0s 167ms/step - loss: 0.1447 - mean_squared_error: 0.1447 - val_loss: 0.1736 - val_mean_squared_error: 0.1736\n",
            "Epoch 195/204\n",
            "1/1 [==============================] - 0s 172ms/step - loss: 0.1437 - mean_squared_error: 0.1437 - val_loss: 0.1736 - val_mean_squared_error: 0.1736\n",
            "Epoch 196/204\n",
            "1/1 [==============================] - 0s 166ms/step - loss: 0.1437 - mean_squared_error: 0.1437 - val_loss: 0.1735 - val_mean_squared_error: 0.1735\n",
            "Epoch 197/204\n",
            "1/1 [==============================] - 0s 173ms/step - loss: 0.1431 - mean_squared_error: 0.1431 - val_loss: 0.1735 - val_mean_squared_error: 0.1735\n",
            "Epoch 198/204\n",
            "1/1 [==============================] - 0s 156ms/step - loss: 0.1429 - mean_squared_error: 0.1429 - val_loss: 0.1734 - val_mean_squared_error: 0.1734\n",
            "Epoch 199/204\n",
            "1/1 [==============================] - 0s 169ms/step - loss: 0.1440 - mean_squared_error: 0.1440 - val_loss: 0.1734 - val_mean_squared_error: 0.1734\n",
            "Epoch 200/204\n",
            "1/1 [==============================] - 0s 166ms/step - loss: 0.1436 - mean_squared_error: 0.1436 - val_loss: 0.1733 - val_mean_squared_error: 0.1733\n",
            "Epoch 201/204\n",
            "1/1 [==============================] - 0s 170ms/step - loss: 0.1443 - mean_squared_error: 0.1443 - val_loss: 0.1733 - val_mean_squared_error: 0.1733\n",
            "Epoch 202/204\n",
            "1/1 [==============================] - 0s 162ms/step - loss: 0.1440 - mean_squared_error: 0.1440 - val_loss: 0.1732 - val_mean_squared_error: 0.1732\n",
            "Epoch 203/204\n",
            "1/1 [==============================] - 0s 171ms/step - loss: 0.1425 - mean_squared_error: 0.1425 - val_loss: 0.1732 - val_mean_squared_error: 0.1732\n",
            "Epoch 204/204\n",
            "1/1 [==============================] - 0s 177ms/step - loss: 0.1435 - mean_squared_error: 0.1435 - val_loss: 0.1732 - val_mean_squared_error: 0.1732\n"
          ]
        },
        {
          "output_type": "execute_result",
          "data": {
            "text/plain": [
              "<matplotlib.axes._subplots.AxesSubplot at 0x7fce858df510>"
            ]
          },
          "metadata": {},
          "execution_count": 103
        },
        {
          "output_type": "display_data",
          "data": {
            "image/png": "[encoded data removed]",
            "text/plain": [
              "<Figure size 432x288 with 1 Axes>"
            ]
          },
          "metadata": {
            "needs_background": "light"
          }
        }
      ]
    },
    {
      "cell_type": "markdown",
      "metadata": {
        "id": "Vmw7-DI7-f2S"
      },
      "source": [
        "### Prediction"
      ]
    },
    {
      "cell_type": "code",
      "metadata": {
        "id": "gJrzhLK1-hLQ"
      },
      "source": [
        ""
      ],
      "execution_count": null,
      "outputs": []
    }
  ]
}