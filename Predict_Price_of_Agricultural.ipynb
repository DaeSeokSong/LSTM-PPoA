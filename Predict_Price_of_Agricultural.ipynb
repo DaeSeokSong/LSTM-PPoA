{
  "nbformat": 4,
  "nbformat_minor": 0,
  "metadata": {
    "colab": {
      "name": "Predict Price of Agricultural.ipynb",
      "provenance": [],
      "collapsed_sections": [],
      "authorship_tag": "ABX9TyNFO30Ksla9/YdY6JskAUAx",
      "include_colab_link": true
    },
    "kernelspec": {
      "name": "python3",
      "display_name": "Python 3"
    },
    "language_info": {
      "name": "python"
    }
  },
  "cells": [
    {
      "cell_type": "markdown",
      "metadata": {
        "id": "view-in-github",
        "colab_type": "text"
      },
      "source": [
        "<a href=\"https://colab.research.google.com/github/DaeSeokSong/LSTM-PPoA/blob/main/Predict_Price_of_Agricultural.ipynb\" target=\"_parent\"><img src=\"https://colab.research.google.com/assets/colab-badge.svg\" alt=\"Open In Colab\"/></a>"
      ]
    },
    {
      "cell_type": "markdown",
      "metadata": {
        "id": "AuQW7ij4HGQc"
      },
      "source": [
        "# 당년 농산물 가격 예측 LSTM 모델"
      ]
    },
    {
      "cell_type": "markdown",
      "metadata": {
        "id": "a8AkO_e7n4kv"
      },
      "source": [
        "### Google Drive Mount"
      ]
    },
    {
      "cell_type": "code",
      "metadata": {
        "colab": {
          "base_uri": "https://localhost:8080/"
        },
        "id": "imYIsQ-Qn6oB",
        "outputId": "c6caf88f-ca7a-4558-e209-55c99d6aec17"
      },
      "source": [
        "from google.colab import drive\n",
        "drive.mount('/content/gdrive')\n",
        "\n",
        "%cd /content/gdrive/MyDrive/DeepLearning/Project/PPoA\n",
        "!ls -al"
      ],
      "execution_count": 10,
      "outputs": [
        {
          "output_type": "stream",
          "name": "stdout",
          "text": [
            "Drive already mounted at /content/gdrive; to attempt to forcibly remount, call drive.mount(\"/content/gdrive\", force_remount=True).\n",
            "/content/gdrive/MyDrive/DeepLearning/Project/PPoA\n",
            "total 14\n",
            "drwx------ 2 root root 4096 Nov 24 06:07  Dataset\n",
            "-rw------- 1 root root 9526 Nov 24 06:28 'Predict Price of Agricultural.ipynb'\n"
          ]
        }
      ]
    },
    {
      "cell_type": "markdown",
      "metadata": {
        "id": "Urjpqmlxb99Q"
      },
      "source": [
        "### Import\n"
      ]
    },
    {
      "cell_type": "code",
      "metadata": {
        "id": "WjLL_CiwGa2v"
      },
      "source": [
        "import numpy as np\n",
        "import pandas as pd\n",
        "import matplotlib.pyplot as plt\n",
        "from keras.models import Sequential\n",
        "from keras.layers import LSTM, Dropout, Dense\n",
        "from keras.utils import *\n",
        "from sklearn.preprocessing import *"
      ],
      "execution_count": 6,
      "outputs": []
    },
    {
      "cell_type": "markdown",
      "metadata": {
        "id": "76aV88cLGCI-"
      },
      "source": [
        "# Function"
      ]
    },
    {
      "cell_type": "code",
      "metadata": {
        "id": "4v5fm5afGCRQ"
      },
      "source": [
        "def Normalization() :\n",
        "    "
      ],
      "execution_count": null,
      "outputs": []
    },
    {
      "cell_type": "markdown",
      "metadata": {
        "id": "RbsM_WkpdNAn"
      },
      "source": [
        "### Data read"
      ]
    },
    {
      "cell_type": "code",
      "metadata": {
        "colab": {
          "base_uri": "https://localhost:8080/",
          "height": 241
        },
        "id": "li41MIACdNGY",
        "outputId": "4207e4fe-5e40-4e6b-bc72-709efc82ca88"
      },
      "source": [
        "f_name = '2008-2020_cabagePrice.csv'\n",
        "df = pd.read_csv('./Dataset/'+f_name, index_col=0)\n",
        "\n",
        "\"\"\"\n",
        "[학습 변수(데이터)]\n",
        "    - 기상 변수 (기온, 강수량, 습도, 풍량 적설량), 변수에 대해 최저값, 최고값, 평균값, 중간값 사용\n",
        "    - 기타 변수 (경유, 물가 상승률, 전년 수확량, 전년 수입량, 전년 재배면적)\n",
        "\"\"\"\n",
        "\n",
        "''' 기상변수 '''\n",
        "# 강수량\n",
        "precipitation_avg = df['전국 강수량 평균']\n",
        "precipitation_chg = df['강수량 증감률']\n",
        "\n",
        "''' 기타변수 '''\n",
        "# 재배면적\n",
        "cultivation_area = df['면적']\n",
        "cultivation_area_chg = df['면적 증감율']\n",
        "# 수입량\n",
        "amount_importation = df['총 수입량']\n",
        "amount_importation_chg = df['총 수입량 증감률']\n",
        "# 생산량(수확량)\n",
        "production = df['생산량']\n",
        "production_chg = df['생산량 증감률']\n",
        "# 물가 상승률\n",
        "price_avg = df['전국 가격 평균']\n",
        "price_chg = df['가격 증감률']\n",
        "\n",
        "df.head()"
      ],
      "execution_count": 42,
      "outputs": [
        {
          "output_type": "execute_result",
          "data": {
            "text/html": [
              "<div>\n",
              "<style scoped>\n",
              "    .dataframe tbody tr th:only-of-type {\n",
              "        vertical-align: middle;\n",
              "    }\n",
              "\n",
              "    .dataframe tbody tr th {\n",
              "        vertical-align: top;\n",
              "    }\n",
              "\n",
              "    .dataframe thead th {\n",
              "        text-align: right;\n",
              "    }\n",
              "</style>\n",
              "<table border=\"1\" class=\"dataframe\">\n",
              "  <thead>\n",
              "    <tr style=\"text-align: right;\">\n",
              "      <th></th>\n",
              "      <th>전국 강수량 평균</th>\n",
              "      <th>강수량 증감률</th>\n",
              "      <th>합계 일조량</th>\n",
              "      <th>평균기온</th>\n",
              "      <th>평균최저기온</th>\n",
              "      <th>최고기온</th>\n",
              "      <th>총 수입량</th>\n",
              "      <th>총 수입량 증감률</th>\n",
              "      <th>Yuan 환율</th>\n",
              "      <th>Yuan 환율 증감률</th>\n",
              "      <th>달러 환율</th>\n",
              "      <th>달러 환율 증감률</th>\n",
              "      <th>면적</th>\n",
              "      <th>면적 증감율</th>\n",
              "      <th>생산단수</th>\n",
              "      <th>생산량</th>\n",
              "      <th>생산량 증감률</th>\n",
              "      <th>전국 가격 평균</th>\n",
              "      <th>가격 증감률</th>\n",
              "      <th>최대</th>\n",
              "      <th>최대가격 증감률</th>\n",
              "      <th>최소</th>\n",
              "      <th>최소가격 증감률</th>\n",
              "      <th>표준편차</th>\n",
              "      <th>변동계수</th>\n",
              "      <th>진폭계수</th>\n",
              "      <th>공급량</th>\n",
              "      <th>공급량 증감률</th>\n",
              "    </tr>\n",
              "  </thead>\n",
              "  <tbody>\n",
              "    <tr>\n",
              "      <th>2020</th>\n",
              "      <td>1627.8</td>\n",
              "      <td>30.59%</td>\n",
              "      <td>2,394.50</td>\n",
              "      <td>13.7</td>\n",
              "      <td>9.2</td>\n",
              "      <td>35.4</td>\n",
              "      <td>281,187</td>\n",
              "      <td>-8.12%</td>\n",
              "      <td>6.90</td>\n",
              "      <td>0%</td>\n",
              "      <td>1,180</td>\n",
              "      <td>1%</td>\n",
              "      <td>13,854</td>\n",
              "      <td>26.30%</td>\n",
              "      <td>9,670</td>\n",
              "      <td>1,339,742</td>\n",
              "      <td>26%</td>\n",
              "      <td>3,268</td>\n",
              "      <td>-26.53%</td>\n",
              "      <td>4,664</td>\n",
              "      <td>-5.80%</td>\n",
              "      <td>2,722</td>\n",
              "      <td>-3%</td>\n",
              "      <td>554</td>\n",
              "      <td>16.95</td>\n",
              "      <td>0.71</td>\n",
              "      <td>1,620,929</td>\n",
              "      <td>18.66%</td>\n",
              "    </tr>\n",
              "    <tr>\n",
              "      <th>2019</th>\n",
              "      <td>1246.5</td>\n",
              "      <td>-14.09%</td>\n",
              "      <td>2,474.30</td>\n",
              "      <td>14.0</td>\n",
              "      <td>9.2</td>\n",
              "      <td>36.0</td>\n",
              "      <td>306,049</td>\n",
              "      <td>5.26%</td>\n",
              "      <td>6.91</td>\n",
              "      <td>4%</td>\n",
              "      <td>1,166.11</td>\n",
              "      <td>6%</td>\n",
              "      <td>10,968</td>\n",
              "      <td>-17.60%</td>\n",
              "      <td>9,664</td>\n",
              "      <td>1,059,925</td>\n",
              "      <td>-25%</td>\n",
              "      <td>4,448</td>\n",
              "      <td>50.52%</td>\n",
              "      <td>4,951</td>\n",
              "      <td>47%</td>\n",
              "      <td>2,857</td>\n",
              "      <td>3%</td>\n",
              "      <td>454</td>\n",
              "      <td>10.21</td>\n",
              "      <td>0.73</td>\n",
              "      <td>1,365,974</td>\n",
              "      <td>-19.41%</td>\n",
              "    </tr>\n",
              "    <tr>\n",
              "      <th>2018</th>\n",
              "      <td>1451.0</td>\n",
              "      <td>50.72%</td>\n",
              "      <td>2,542.10</td>\n",
              "      <td>13.5</td>\n",
              "      <td>8.8</td>\n",
              "      <td>39.4</td>\n",
              "      <td>290,742</td>\n",
              "      <td>5.48%</td>\n",
              "      <td>6.62</td>\n",
              "      <td>-2%</td>\n",
              "      <td>1,100.58</td>\n",
              "      <td>-3%</td>\n",
              "      <td>13,313</td>\n",
              "      <td>-2.60%</td>\n",
              "      <td>10,547</td>\n",
              "      <td>1,404,151</td>\n",
              "      <td>3%</td>\n",
              "      <td>2,955</td>\n",
              "      <td>9.77%</td>\n",
              "      <td>3,369</td>\n",
              "      <td>10.40%</td>\n",
              "      <td>2,773</td>\n",
              "      <td>16.30%</td>\n",
              "      <td>150</td>\n",
              "      <td>5.08</td>\n",
              "      <td>0.21</td>\n",
              "      <td>1,694,893</td>\n",
              "      <td>3.46%</td>\n",
              "    </tr>\n",
              "    <tr>\n",
              "      <th>2017</th>\n",
              "      <td>962.7</td>\n",
              "      <td>-30.16%</td>\n",
              "      <td>2,632.00</td>\n",
              "      <td>13.4</td>\n",
              "      <td>8.5</td>\n",
              "      <td>35.9</td>\n",
              "      <td>275,631</td>\n",
              "      <td>8.76%</td>\n",
              "      <td>6.76</td>\n",
              "      <td>2%</td>\n",
              "      <td>1,130.48</td>\n",
              "      <td>-3%</td>\n",
              "      <td>13,674</td>\n",
              "      <td>19.60%</td>\n",
              "      <td>9,965</td>\n",
              "      <td>1,362,621</td>\n",
              "      <td>21%</td>\n",
              "      <td>2,692</td>\n",
              "      <td>-25.72%</td>\n",
              "      <td>3,051</td>\n",
              "      <td>-27.80%</td>\n",
              "      <td>2,384</td>\n",
              "      <td>12.90%</td>\n",
              "      <td>146</td>\n",
              "      <td>5.42</td>\n",
              "      <td>0.28</td>\n",
              "      <td>1,638,252</td>\n",
              "      <td>18.58%</td>\n",
              "    </tr>\n",
              "    <tr>\n",
              "      <th>2016</th>\n",
              "      <td>1378.5</td>\n",
              "      <td>33.98%</td>\n",
              "      <td>2,440.10</td>\n",
              "      <td>14.0</td>\n",
              "      <td>9.4</td>\n",
              "      <td>37.6</td>\n",
              "      <td>253,432</td>\n",
              "      <td>13.08%</td>\n",
              "      <td>6.64</td>\n",
              "      <td>7%</td>\n",
              "      <td>1,160.41</td>\n",
              "      <td>3%</td>\n",
              "      <td>11,429</td>\n",
              "      <td>-10.20%</td>\n",
              "      <td>9,871</td>\n",
              "      <td>1,128,122</td>\n",
              "      <td>-21%</td>\n",
              "      <td>3,624</td>\n",
              "      <td>69.50%</td>\n",
              "      <td>4,224</td>\n",
              "      <td>85.10%</td>\n",
              "      <td>2,111</td>\n",
              "      <td>12.60%</td>\n",
              "      <td>595</td>\n",
              "      <td>16.42</td>\n",
              "      <td>1.00</td>\n",
              "      <td>1,381,554</td>\n",
              "      <td>-16.78%</td>\n",
              "    </tr>\n",
              "  </tbody>\n",
              "</table>\n",
              "</div>"
            ],
            "text/plain": [
              "      전국 강수량 평균  강수량 증감률    합계 일조량  평균기온  ...   변동계수  진폭계수        공급량  공급량 증감률\n",
              "2020     1627.8   30.59%  2,394.50  13.7  ...  16.95  0.71  1,620,929   18.66%\n",
              "2019     1246.5  -14.09%  2,474.30  14.0  ...  10.21  0.73  1,365,974  -19.41%\n",
              "2018     1451.0   50.72%  2,542.10  13.5  ...   5.08  0.21  1,694,893    3.46%\n",
              "2017      962.7  -30.16%  2,632.00  13.4  ...   5.42  0.28  1,638,252   18.58%\n",
              "2016     1378.5   33.98%  2,440.10  14.0  ...  16.42  1.00  1,381,554  -16.78%\n",
              "\n",
              "[5 rows x 28 columns]"
            ]
          },
          "metadata": {},
          "execution_count": 42
        }
      ]
    },
    {
      "cell_type": "markdown",
      "metadata": {
        "id": "AtnE8nF3927h"
      },
      "source": [
        "### Data preprocessing"
      ]
    },
    {
      "cell_type": "code",
      "metadata": {
        "id": "hR4aVA0E97aI"
      },
      "source": [
        "chgs = [precipitation_chg, cultivation_area_chg, amount_importation_chg, price_chg]\n",
        "\n",
        "for chg_list in chgs :\n",
        "    chg_idxs = chg_list.index\n",
        "    for idx, e in enumerate(chg_list) :\n",
        "        chg_list[chg_idxs[idx]] = float(e[0:len(e)-1])"
      ],
      "execution_count": null,
      "outputs": []
    },
    {
      "cell_type": "markdown",
      "metadata": {
        "id": "-P4ubOMj-YWG"
      },
      "source": [
        "### Modeling"
      ]
    },
    {
      "cell_type": "code",
      "metadata": {
        "id": "4GpM_MnL-Ydz"
      },
      "source": [
        "model = Sequential()\n",
        "\n",
        "model.add(LSTM(\n",
        "    1, # 해당 층의 노드 개수\n",
        "    input_shape=(50,1), # input_shape=?\n",
        "    return_sequences=True)) # return_sequences == 각 시퀀스를 출력할지\n",
        "model.add(Dropout(0.01)) # 과적합 방지용 Dropout 20%(==0.2)\n",
        "\n",
        "model.add(LSTM(\n",
        "    100, # 노드 100개\n",
        "    return_sequences=False))\n",
        "model.add(Dropout(0.01))\n",
        "\n",
        "model.add(Dense(1, activation='sigmoid')) # 활성화(Activation)함수 = sigmoid\n",
        "model.compile(loss='mse', optimizer='rmsprop')"
      ],
      "execution_count": null,
      "outputs": []
    },
    {
      "cell_type": "markdown",
      "metadata": {
        "id": "AQKnA-yk-bs5"
      },
      "source": [
        "### Learning"
      ]
    },
    {
      "cell_type": "code",
      "metadata": {
        "id": "7pgorD0U-bLv"
      },
      "source": [
        ""
      ],
      "execution_count": null,
      "outputs": []
    },
    {
      "cell_type": "markdown",
      "metadata": {
        "id": "Vmw7-DI7-f2S"
      },
      "source": [
        "### Prediction"
      ]
    },
    {
      "cell_type": "code",
      "metadata": {
        "id": "gJrzhLK1-hLQ"
      },
      "source": [
        ""
      ],
      "execution_count": null,
      "outputs": []
    }
  ]
}